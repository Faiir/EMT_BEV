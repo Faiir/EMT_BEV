{
 "cells": [
  {
   "cell_type": "code",
   "execution_count": 15,
   "metadata": {},
   "outputs": [],
   "source": [
    "import torch \n",
    "\n",
    "test = torch.randint(0,10,(2,5,5))"
   ]
  },
  {
   "cell_type": "code",
   "execution_count": 16,
   "metadata": {},
   "outputs": [
    {
     "data": {
      "text/plain": [
       "tensor([[[0, 8, 3, 4, 3],\n",
       "         [0, 2, 7, 7, 3],\n",
       "         [8, 6, 6, 8, 6],\n",
       "         [1, 1, 8, 3, 2],\n",
       "         [6, 9, 0, 5, 8]],\n",
       "\n",
       "        [[1, 0, 6, 8, 7],\n",
       "         [1, 3, 6, 4, 6],\n",
       "         [8, 4, 5, 7, 5],\n",
       "         [7, 0, 9, 0, 8],\n",
       "         [6, 1, 9, 3, 8]]])"
      ]
     },
     "execution_count": 16,
     "metadata": {},
     "output_type": "execute_result"
    }
   ],
   "source": [
    "test"
   ]
  },
  {
   "cell_type": "code",
   "execution_count": 17,
   "metadata": {},
   "outputs": [
    {
     "data": {
      "text/plain": [
       "tensor([[1, 0, 1, 1, 1],\n",
       "        [1, 1, 0, 0, 1],\n",
       "        [0, 0, 0, 0, 0],\n",
       "        [1, 0, 1, 0, 1],\n",
       "        [0, 0, 1, 0, 0]])"
      ]
     },
     "execution_count": 17,
     "metadata": {},
     "output_type": "execute_result"
    }
   ],
   "source": [
    "arg_max_indexs =torch.argmax(test,dim=0)\n",
    "arg_max_indexs\n"
   ]
  },
  {
   "cell_type": "code",
   "execution_count": 28,
   "metadata": {},
   "outputs": [
    {
     "name": "stdout",
     "output_type": "stream",
     "text": [
      "tensor([[25,  1, 27, 28, 29],\n",
      "        [30, 31,  7,  8, 34],\n",
      "        [10, 11, 12, 13, 14],\n",
      "        [40, 16, 42, 18, 44],\n",
      "        [20, 21, 47, 23, 24]])\n"
     ]
    }
   ],
   "source": [
    "\n",
    "import numpy as np \n",
    "\n",
    "# test_np = test.numpy()\n",
    "# arg_max_indexs = arg_max_indexs.numpy()\n",
    "test_bool = torch.zeros_like(test).bool()\n",
    "\n",
    "def linidx_take(val_arr, z_indices):\n",
    "\n",
    "    # Get number of columns and rows in values array\n",
    "    _, nC, nR = val_arr.shape\n",
    "\n",
    "    # Get linear indices and thus extract elements with np.take\n",
    "    idx = nC*nR*z_indices + nR*torch.arange(nR)[:,None] + torch.arange(nC)\n",
    "    print(idx)\n",
    "    return  val_arr.ravel()[idx], idx\n",
    "\n",
    "\n",
    "vals,idx=linidx_take(test, arg_max_indexs)\n",
    "\n",
    "#test_np.choose(arg_max_indexs)\n"
   ]
  },
  {
   "cell_type": "code",
   "execution_count": 33,
   "metadata": {},
   "outputs": [
    {
     "data": {
      "text/plain": [
       "tensor([25,  1, 27, 28, 29, 30, 31,  7,  8, 34, 10, 11, 12, 13, 14, 40, 16, 42,\n",
       "        18, 44, 20, 21, 47, 23, 24])"
      ]
     },
     "execution_count": 33,
     "metadata": {},
     "output_type": "execute_result"
    }
   ],
   "source": [
    "\n",
    "idx.ravel()\n"
   ]
  },
  {
   "cell_type": "code",
   "execution_count": 50,
   "metadata": {},
   "outputs": [],
   "source": [
    "test_ravel_shape=test.ravel().shape\n",
    "bool_array = torch.zeros(test_ravel_shape, dtype=bool)\n",
    "bool_array[idx.ravel()] = True\n"
   ]
  },
  {
   "cell_type": "code",
   "execution_count": 51,
   "metadata": {},
   "outputs": [
    {
     "data": {
      "text/plain": [
       "tensor([False,  True, False, False, False, False, False,  True,  True, False,\n",
       "         True,  True,  True,  True,  True, False,  True, False,  True, False,\n",
       "         True,  True, False,  True,  True,  True, False,  True,  True,  True,\n",
       "         True,  True, False, False,  True, False, False, False, False, False,\n",
       "         True, False,  True, False,  True, False, False,  True, False, False])"
      ]
     },
     "execution_count": 51,
     "metadata": {},
     "output_type": "execute_result"
    }
   ],
   "source": [
    "bool_array\n"
   ]
  },
  {
   "cell_type": "code",
   "execution_count": 52,
   "metadata": {},
   "outputs": [],
   "source": [
    "test_bool=bool_array.reshape(test.shape)"
   ]
  },
  {
   "cell_type": "code",
   "execution_count": 53,
   "metadata": {},
   "outputs": [
    {
     "data": {
      "text/plain": [
       "tensor([[[False,  True, False, False, False],\n",
       "         [False, False,  True,  True, False],\n",
       "         [ True,  True,  True,  True,  True],\n",
       "         [False,  True, False,  True, False],\n",
       "         [ True,  True, False,  True,  True]],\n",
       "\n",
       "        [[ True, False,  True,  True,  True],\n",
       "         [ True,  True, False, False,  True],\n",
       "         [False, False, False, False, False],\n",
       "         [ True, False,  True, False,  True],\n",
       "         [False, False,  True, False, False]]])"
      ]
     },
     "execution_count": 53,
     "metadata": {},
     "output_type": "execute_result"
    }
   ],
   "source": [
    "test_bool\n"
   ]
  },
  {
   "cell_type": "code",
   "execution_count": 54,
   "metadata": {},
   "outputs": [
    {
     "data": {
      "text/plain": [
       "tensor([[[0., 1., 0., 0., 0.],\n",
       "         [0., 0., 1., 1., 0.],\n",
       "         [1., 1., 1., 1., 1.],\n",
       "         [0., 1., 0., 1., 0.],\n",
       "         [1., 1., 0., 1., 1.]],\n",
       "\n",
       "        [[1., 0., 1., 1., 1.],\n",
       "         [1., 1., 0., 0., 1.],\n",
       "         [0., 0., 0., 0., 0.],\n",
       "         [1., 0., 1., 0., 1.],\n",
       "         [0., 0., 1., 0., 0.]]])"
      ]
     },
     "execution_count": 54,
     "metadata": {},
     "output_type": "execute_result"
    }
   ],
   "source": [
    "test_bool.float()\n"
   ]
  },
  {
   "cell_type": "code",
   "execution_count": 55,
   "metadata": {},
   "outputs": [
    {
     "data": {
      "text/plain": [
       "tensor([[[0., 8., 0., 0., 0.],\n",
       "         [0., 0., 7., 7., 0.],\n",
       "         [8., 6., 6., 8., 6.],\n",
       "         [0., 1., 0., 3., 0.],\n",
       "         [6., 9., 0., 5., 8.]],\n",
       "\n",
       "        [[1., 0., 6., 8., 7.],\n",
       "         [1., 3., 0., 0., 6.],\n",
       "         [0., 0., 0., 0., 0.],\n",
       "         [7., 0., 9., 0., 8.],\n",
       "         [0., 0., 9., 0., 0.]]])"
      ]
     },
     "execution_count": 55,
     "metadata": {},
     "output_type": "execute_result"
    }
   ],
   "source": [
    "test*test_bool.float()\n"
   ]
  },
  {
   "cell_type": "code",
   "execution_count": 46,
   "metadata": {},
   "outputs": [
    {
     "data": {
      "text/plain": [
       "(tensor([[0, 8, 3, 4, 3],\n",
       "         [0, 2, 7, 7, 3],\n",
       "         [8, 6, 6, 8, 6],\n",
       "         [1, 1, 8, 3, 2],\n",
       "         [6, 9, 0, 5, 8]]),\n",
       " tensor([[1, 0, 6, 8, 7],\n",
       "         [1, 3, 6, 4, 6],\n",
       "         [8, 4, 5, 7, 5],\n",
       "         [7, 0, 9, 0, 8],\n",
       "         [6, 1, 9, 3, 8]]))"
      ]
     },
     "execution_count": 46,
     "metadata": {},
     "output_type": "execute_result"
    }
   ],
   "source": [
    "test[0],test[1]"
   ]
  },
  {
   "cell_type": "code",
   "execution_count": 26,
   "metadata": {},
   "outputs": [
    {
     "ename": "IndexError",
     "evalue": "index_select(): Index is supposed to be a vector",
     "output_type": "error",
     "traceback": [
      "\u001b[0;31m---------------------------------------------------------------------------\u001b[0m",
      "\u001b[0;31mIndexError\u001b[0m                                Traceback (most recent call last)",
      "Cell \u001b[0;32mIn [26], line 1\u001b[0m\n\u001b[0;32m----> 1\u001b[0m torch\u001b[39m.\u001b[39;49mindex_select(test_bool, \u001b[39m0\u001b[39;49m, idx)\n",
      "\u001b[0;31mIndexError\u001b[0m: index_select(): Index is supposed to be a vector"
     ]
    }
   ],
   "source": [
    "torch.index_select(test_bool, 0, idx)\n"
   ]
  },
  {
   "cell_type": "code",
   "execution_count": null,
   "metadata": {},
   "outputs": [],
   "source": []
  },
  {
   "cell_type": "code",
   "execution_count": 9,
   "metadata": {},
   "outputs": [
    {
     "data": {
      "text/plain": [
       "(torch.Size([1, 5, 5, 5, 5]), torch.Size([1, 5, 5]))"
      ]
     },
     "execution_count": 9,
     "metadata": {},
     "output_type": "execute_result"
    }
   ],
   "source": [
    "test[arg_max_indexs].shape,arg_max_indexs.shape"
   ]
  },
  {
   "attachments": {},
   "cell_type": "markdown",
   "metadata": {},
   "source": [
    "# Vis Inference Predicitons "
   ]
  },
  {
   "cell_type": "code",
   "execution_count": null,
   "metadata": {},
   "outputs": [],
   "source": [
    "import torch\n",
    "\n",
    "\n",
    "classes = torch.rand((1, 300, 101),)\n",
    "test_vis_gt = torch.randint(low=0, high=1, size=(1, 15, 300, 50, 50))\n",
    "test_vis = torch.rand((1,100,300,50,50))"
   ]
  },
  {
   "attachments": {},
   "cell_type": "markdown",
   "metadata": {},
   "source": [
    " maybe class predictions * the sum assignment over waiting and then do the predictions \n",
    "\n",
    "```python \n",
    "cost_class = b_out_prob[:, b_tgt_ids]\n",
    " C = self.cost_dice * cost_dice + self.cost_class * cost_class\n",
    "          C = C.cpu()\n",
    "assignment = linear_sum_assignment(C, maximize=True)\n",
    "indices.append(assignment)\n",
    "\n",
    "# loop to select classes and predictions \n",
    "```\n",
    "and th"
   ]
  },
  {
   "attachments": {},
   "cell_type": "markdown",
   "metadata": {},
   "source": [
    "# Vis Logs"
   ]
  },
  {
   "cell_type": "code",
   "execution_count": 1,
   "metadata": {},
   "outputs": [],
   "source": [
    "import numpy as np \n",
    "\n",
    "\n",
    "import json\n",
    "import os \n",
    "\n",
    "log_path = os.path.join(\n",
    "    r\"/home/niklas/ETM_BEV/BEVerse/logs_cluster/20221212_111515.log.json\")\n",
    "\n",
    "\n",
    "epoch = []\n",
    "steps = []\n",
    "loss_overall = []\n",
    "loss_ce = []\n",
    "loss_mask = []\n",
    "loss_dice = []\n",
    "lr = []\n",
    "cardinality_error = []\n",
    "class_error = []\n",
    "\n",
    "\n",
    "with open(log_path, mode=\"r\") as log_file:\n",
    "    for i,l in enumerate(log_file.readlines()):\n",
    "        if i == 0:\n",
    "            continue\n",
    "        cur_dict =json.loads(l)\n",
    "        steps.append(i-1)\n",
    "        epoch.append(cur_dict[\"epoch\"])\n",
    "        loss_overall.append(cur_dict[\"loss\"])\n",
    "        loss_ce.append(cur_dict[\"loss_ce\"])\n",
    "        loss_mask.append(cur_dict[\"loss_mask\"])\n",
    "        loss_dice.append(cur_dict[\"loss_dice\"])\n",
    "        lr.append(cur_dict[\"lr\"])\n",
    "        cardinality_error.append(cur_dict[\"cardinality_error\"])\n",
    "        class_error.append(cur_dict[\"class_error\"])"
   ]
  },
  {
   "cell_type": "code",
   "execution_count": 2,
   "metadata": {},
   "outputs": [],
   "source": [
    "epoch = np.array(epoch)\n",
    "steps = np.array(steps)\n",
    "loss_overall = np.array(loss_overall)\n",
    "loss_ce = np.array(loss_ce)\n",
    "loss_mask = np.array(loss_mask)\n",
    "loss_dice = np.array(loss_dice)\n",
    "cardinality_error = np.array(cardinality_error)\n",
    "lr = np.array(lr)\n",
    "class_error = np.array(class_error)\n"
   ]
  },
  {
   "cell_type": "code",
   "execution_count": 7,
   "metadata": {},
   "outputs": [
    {
     "data": {
      "image/png": "[encoded data removed]",
      "text/plain": [
       "<Figure size 1000x800 with 1 Axes>"
      ]
     },
     "metadata": {},
     "output_type": "display_data"
    }
   ],
   "source": [
    "\n",
    "import matplotlib\n",
    "matplotlib.use\n",
    "import matplotlib.pyplot as plt\n",
    "plt.style.use('ggplot')\n",
    "\n",
    "fig, ax = plt.subplots(figsize=(10, 8), layout='constrained')\n",
    "ax.plot(steps[100:], loss_ce[100:], label='loss_ce')  # Plot some data on the axes.\n",
    "# Plot more data on the axes...\n",
    "#ax.plot(steps[300:], loss_mask[300:], label='loss_mask')\n",
    "#ax.plot(steps[300:], loss_dice[300:], label='loss_dice')  # ... and some more.\n",
    "ax.set_xlabel('step')  # Add an x-label to the axes.\n",
    "ax.set_ylabel('loss_value')  # Add a y-label to the axes.\n",
    "ax.set_title(\"Loss_plot\")  # Add a title to the axes.\n",
    "ax.legend()  # Add a legend.\n",
    "\n",
    "plt.show()\n"
   ]
  },
  {
   "cell_type": "code",
   "execution_count": 4,
   "metadata": {},
   "outputs": [
    {
     "data": {
      "image/png": "[encoded data removed]",
      "text/plain": [
       "<Figure size 500x400 with 1 Axes>"
      ]
     },
     "metadata": {},
     "output_type": "display_data"
    }
   ],
   "source": [
    "fig, ax = plt.subplots(figsize=(5, 4), layout='constrained')\n",
    "# Plot some data on the axes.\n",
    "ax.plot(steps, loss_overall, label='loss_overall')\n",
    "# Plot more data on the axes...\n",
    "# ax.plot(steps, loss_mask, label='loss_mask')\n",
    "# ax.plot(steps, loss_dice, label='loss_dice')  # ... and some more.\n",
    "ax.set_xlabel('step')  # Add an x-label to the axes.\n",
    "ax.set_ylabel('loss_value')  # Add a y-label to the axes.\n",
    "ax.set_title(\"Loss_plot\")  # Add a title to the axes.\n",
    "ax.legend()  # Add a legend.\n",
    "\n",
    "plt.show()\n"
   ]
  },
  {
   "cell_type": "code",
   "execution_count": 7,
   "metadata": {},
   "outputs": [
    {
     "data": {
      "image/png": "[encoded data removed]",
      "text/plain": [
       "<Figure size 500x400 with 1 Axes>"
      ]
     },
     "metadata": {},
     "output_type": "display_data"
    }
   ],
   "source": [
    "fig, ax = plt.subplots(figsize=(5, 4), layout='constrained')\n",
    "# Plot some data on the axes.\n",
    "ax.plot(steps, cardinality_error, label='cardinality_error')\n",
    "# Plot more data on the axes...\n",
    "# ax.plot(steps, loss_mask, label='loss_mask')\n",
    "# ax.plot(steps, loss_dice, label='loss_dice')  # ... and some more.\n",
    "ax.set_xlabel('step')  # Add an x-label to the axes.\n",
    "ax.set_ylabel('cardinality_error')  # Add a y-label to the axes.\n",
    "ax.set_title(\"cardinality_error\")  # Add a title to the axes.\n",
    "ax.legend()  # Add a legend.\n",
    "\n",
    "plt.show()\n"
   ]
  },
  {
   "cell_type": "code",
   "execution_count": 6,
   "metadata": {},
   "outputs": [
    {
     "data": {
      "image/png": "[encoded data removed]",
      "text/plain": [
       "<Figure size 500x400 with 1 Axes>"
      ]
     },
     "metadata": {},
     "output_type": "display_data"
    }
   ],
   "source": [
    "fig, ax = plt.subplots(figsize=(5, 4), layout='constrained')\n",
    "# Plot some data on the axes.\n",
    "ax.plot(steps, lr, label='lr')\n",
    "# Plot more data on the axes...\n",
    "# ax.plot(steps, loss_mask, label='loss_mask')\n",
    "# ax.plot(steps, loss_dice, label='loss_dice')  # ... and some more.\n",
    "ax.set_xlabel('step')  # Add an x-label to the axes.\n",
    "ax.set_ylabel('lr')  # Add a y-label to the axes.\n",
    "ax.set_title(\"Lr_plot\")  # Add a title to the axes.\n",
    "ax.legend()  # Add a legend.\n",
    "\n",
    "plt.show()\n"
   ]
  },
  {
   "cell_type": "code",
   "execution_count": null,
   "metadata": {},
   "outputs": [],
   "source": []
  },
  {
   "attachments": {},
   "cell_type": "markdown",
   "metadata": {},
   "source": [
    "# Viz labels"
   ]
  },
  {
   "cell_type": "code",
   "execution_count": 1,
   "metadata": {},
   "outputs": [
    {
     "name": "stdout",
     "output_type": "stream",
     "text": [
      "projects.mmdet3d_plugin\n"
     ]
    }
   ],
   "source": [
    "from mmdet.datasets import (build_dataloader, build_dataset,\n",
    "                            replace_ImageToTensor)\n",
    "\n",
    "import numpy as np \n",
    "import matplotlib.pyplot as plt \n",
    "from mmcv import Config\n",
    "\n",
    "ignore_index = 255\n",
    "\n",
    "import torch \n",
    "\n",
    "\n",
    "INSTANCE_COLOURS = np.asarray([\n",
    "    [0, 0, 0],\n",
    "    [255, 179, 0],\n",
    "    [128, 62, 117],\n",
    "    [255, 104, 0],\n",
    "    [166, 189, 215],\n",
    "    [193, 0, 32],\n",
    "    [206, 162, 98],\n",
    "    [129, 112, 102],\n",
    "    [0, 125, 52],\n",
    "    [246, 118, 142],\n",
    "    [0, 83, 138],\n",
    "    [255, 122, 92],\n",
    "    [83, 55, 122],\n",
    "    [255, 142, 0],\n",
    "    [179, 40, 81],\n",
    "    [244, 200, 0],\n",
    "    [127, 24, 13],\n",
    "    [147, 170, 0],\n",
    "    [89, 51, 21],\n",
    "    [241, 58, 19],\n",
    "    [35, 44, 22],\n",
    "    [112, 224, 255],\n",
    "    [70, 184, 160],\n",
    "    [153, 0, 255],\n",
    "    [71, 255, 0],\n",
    "    [255, 0, 163],\n",
    "    [255, 204, 0],\n",
    "    [0, 255, 235],\n",
    "    [255, 0, 235],\n",
    "    [255, 0, 122],\n",
    "    [255, 245, 0],\n",
    "    [10, 190, 212],\n",
    "    [214, 255, 0],\n",
    "    [0, 204, 255],\n",
    "    [20, 0, 255],\n",
    "    [255, 255, 0],\n",
    "    [0, 153, 255],\n",
    "    [0, 255, 204],\n",
    "    [41, 255, 0],\n",
    "    [173, 0, 255],\n",
    "    [0, 245, 255],\n",
    "    [71, 0, 255],\n",
    "    [0, 255, 184],\n",
    "    [0, 92, 255],\n",
    "    [184, 255, 0],\n",
    "    [255, 214, 0],\n",
    "    [25, 194, 194],\n",
    "    [92, 0, 255],\n",
    "    [220, 220, 220],\n",
    "    [255, 9, 92],\n",
    "    [112, 9, 255],\n",
    "    [8, 255, 214],\n",
    "    [255, 184, 6],\n",
    "    [10, 255, 71],\n",
    "    [255, 41, 10],\n",
    "    [7, 255, 255],\n",
    "    [224, 255, 8],\n",
    "    [102, 8, 255],\n",
    "    [255, 61, 6],\n",
    "    [255, 194, 7],\n",
    "    [0, 255, 20],\n",
    "    [255, 8, 41],\n",
    "    [255, 5, 153],\n",
    "    [6, 51, 255],\n",
    "    [235, 12, 255],\n",
    "    [160, 150, 20],\n",
    "    [0, 163, 255],\n",
    "    [140, 140, 140],\n",
    "    [250, 10, 15],\n",
    "    [20, 255, 0],\n",
    "])\n",
    "\n",
    "\n",
    "def generate_instance_colours(instance_map):\n",
    "    # Most distinct 22 colors (kelly colors from https://stackoverflow.com/questions/470690/how-to-automatically-generate\n",
    "    # -n-distinct-colors)\n",
    "    # plus some colours from AD40k\n",
    "\n",
    "    return {instance_id: INSTANCE_COLOURS[global_instance_id % len(INSTANCE_COLOURS)] for\n",
    "            instance_id, global_instance_id in instance_map.items()\n",
    "            }\n",
    "\n",
    "def plot_instance_map(instance_image, instance_map, instance_colours=None, bg_image=None):\n",
    "    if isinstance(instance_image, torch.Tensor):\n",
    "        instance_image = instance_image.cpu().numpy()\n",
    "    assert isinstance(instance_image, np.ndarray)\n",
    "    if instance_colours is None:\n",
    "        instance_colours = generate_instance_colours(instance_map)\n",
    "    if len(instance_image.shape) > 2:\n",
    "        instance_image = instance_image.reshape(\n",
    "            (instance_image.shape[-2], instance_image.shape[-1]))\n",
    "\n",
    "    # white background + colorful objects\n",
    "    if bg_image is None:\n",
    "        plot_image = 255 * \\\n",
    "            np.ones(\n",
    "                (instance_image.shape[0], instance_image.shape[1], 3), dtype=np.uint8)\n",
    "    else:\n",
    "        plot_image = bg_image\n",
    "\n",
    "    for key, value in instance_colours.items():\n",
    "        plot_image[instance_image == key] = value\n",
    "\n",
    "    return plot_image\n",
    "\n",
    "\n",
    "\n",
    "from projects.mmdet3d_plugin.datasets.utils.warper import FeatureWarper\n",
    "import os\n",
    "\n",
    "\n",
    "def import_modules_load_config(cfg_file=\"beverse_tiny.py\", samples_per_gpu=1):\n",
    "    cfg_path = r\"/home/niklas/ETM_BEV/BEVerse/projects/configs\"\n",
    "    cfg_path = os.path.join(cfg_path, cfg_file)\n",
    "\n",
    "    cfg = Config.fromfile(cfg_path)\n",
    "\n",
    "    # if args.cfg_options is not None:\n",
    "    #     cfg.merge_from_dict(args.cfg_options)\n",
    "    # import modules from string list.\n",
    "    if cfg.get(\"custom_imports\", None):\n",
    "        from mmcv.utils import import_modules_from_strings\n",
    "\n",
    "        import_modules_from_strings(**cfg[\"custom_imports\"])\n",
    "\n",
    "    # import modules from plguin/xx, registry will be updated\n",
    "    if hasattr(cfg, \"plugin\"):\n",
    "        if cfg.plugin:\n",
    "            import importlib\n",
    "\n",
    "            if hasattr(cfg, \"plugin_dir\"):\n",
    "                plugin_dir = cfg.plugin_dir\n",
    "                _module_dir = os.path.dirname(plugin_dir)\n",
    "                _module_dir = _module_dir.split(\"/\")\n",
    "                _module_path = _module_dir[0]\n",
    "\n",
    "                for m in _module_dir[1:]:\n",
    "                    _module_path = _module_path + \".\" + m\n",
    "                print(_module_path)\n",
    "                plg_lib = importlib.import_module(_module_path)\n",
    "            else:\n",
    "                # import dir is the dirpath for the config file\n",
    "                _module_dir = cfg_path\n",
    "                _module_dir = _module_dir.split(\"/\")\n",
    "                _module_path = _module_dir[0]\n",
    "                for m in _module_dir[1:]:\n",
    "                    _module_path = _module_path + \".\" + m\n",
    "                print(_module_path)\n",
    "                plg_lib = importlib.import_module(_module_path)\n",
    "\n",
    "    samples_per_gpu = 1\n",
    "    if isinstance(cfg.data.test, dict):\n",
    "        cfg.data.test.test_mode = True\n",
    "        samples_per_gpu = cfg.data.test.pop(\"samples_per_gpu\", 1)\n",
    "        if samples_per_gpu > 1:\n",
    "            # Replace 'ImageToTensor' to 'DefaultFormatBundle'\n",
    "            cfg.data.test.pipeline = replace_ImageToTensor(\n",
    "                cfg.data.test.pipeline)\n",
    "    elif isinstance(cfg.data.test, list):\n",
    "        for ds_cfg in cfg.data.test:\n",
    "            ds_cfg.test_mode = True\n",
    "        samples_per_gpu = max(\n",
    "            [ds_cfg.pop(\"samples_per_gpu\", 1) for ds_cfg in cfg.data.test]\n",
    "        )\n",
    "        if samples_per_gpu > 1:\n",
    "            for ds_cfg in cfg.data.test:\n",
    "                ds_cfg.pipeline = replace_ImageToTensor(ds_cfg.pipeline)\n",
    "\n",
    "    return cfg\n",
    "\n",
    "\n",
    "torch.backends.cudnn.benchmark = True\n",
    "\n",
    "cfg = import_modules_load_config(\n",
    "    cfg_file=r\"beverse_tiny_org.py\")\n",
    "\n",
    "\n",
    "\n",
    "\n"
   ]
  },
  {
   "cell_type": "code",
   "execution_count": 2,
   "metadata": {},
   "outputs": [],
   "source": [
    "dataset = build_dataset(cfg.data.test)\n",
    "data_loader = build_dataloader(\n",
    "    dataset,\n",
    "    samples_per_gpu=1,\n",
    "    workers_per_gpu=cfg.data.workers_per_gpu,\n",
    "    dist=False,\n",
    "    shuffle=False)\n",
    "\n",
    "\n",
    "grid_conf = {\n",
    "    \"xbound\": [-50.0, 50.0, 0.5],\n",
    "    \"ybound\": [-50.0, 50.0, 0.5],\n",
    "    \"zbound\": [-10.0, 10.0, 20.0],\n",
    "    \"dbound\": [1.0, 60.0, 1.0],\n",
    "}\n",
    "\n",
    "warper = FeatureWarper(grid_conf=grid_conf)\n"
   ]
  },
  {
   "cell_type": "code",
   "execution_count": 3,
   "metadata": {},
   "outputs": [],
   "source": [
    "iter_loader =iter(data_loader)\n"
   ]
  },
  {
   "cell_type": "code",
   "execution_count": 4,
   "metadata": {},
   "outputs": [],
   "source": [
    "sample = next(iter_loader)\n"
   ]
  },
  {
   "cell_type": "code",
   "execution_count": 28,
   "metadata": {},
   "outputs": [],
   "source": [
    "import math\n",
    "import torch.nn.functional as F \n",
    "\n",
    "\n",
    "class pseud_class:\n",
    "    def __init__(self) -> None:\n",
    "        \n",
    "        self.receptive_field = 4\n",
    "        self.warper = FeatureWarper(grid_conf=grid_conf)\n",
    "        self.ignore_index = 255\n",
    "    def prepare_targets(self, batch,bev_size = (200,200), mask_stride=2,match_stride=2):\n",
    "        segmentation_labels = batch[\"motion_segmentation\"][0]\n",
    "        gt_instance = batch[\"motion_instance\"][0]\n",
    "        future_egomotion = batch[\"future_egomotions\"][0]\n",
    "        batch_size = len(segmentation_labels)\n",
    "        labels = {}\n",
    "\n",
    "        bev_transform = batch.get(\"aug_transform\", None)\n",
    "        labels[\"img_is_valid\"] = batch.get(\"img_is_valid\", None)\n",
    "\n",
    "        if bev_transform is not None:\n",
    "            bev_transform = bev_transform.float()\n",
    "        #warping so all segmentation labels are inside the current BEV frame FIERY reports better convergence / performance if you do this \n",
    "        segmentation_labels = (\n",
    "            self.warper.cumulative_warp_features_reverse(\n",
    "                segmentation_labels.float().unsqueeze(2),\n",
    "                future_egomotion[:, (self.receptive_field - 1) :],\n",
    "                mode=\"nearest\",\n",
    "                bev_transform=bev_transform,\n",
    "            )\n",
    "            .long()\n",
    "            .contiguous()\n",
    "        ).squeeze().to(torch.float32)\n",
    "        #print(f\"Seg labels shape: {segmentation_labels.shape =}\")\n",
    "\n",
    "        target_list = []\n",
    "        for b in range(batch_size):\n",
    "            gt_list = []\n",
    "            #gt_instance[b] = gt_instance[b][gt_instance[b]!=self.ignore_index]\n",
    "            ids = gt_instance[b].unique()\n",
    "\n",
    "            ids = ids[ids != self.ignore_index]\n",
    "            ids = ids[ids != 0]\n",
    "            \n",
    "            label_t_list = []\n",
    "            for t in gt_instance[b]:\n",
    "                t_labels = t.unique()\n",
    "                t_labels = t_labels[t_labels != self.ignore_index]\n",
    "                t_labels = t_labels[t_labels != 0]\n",
    "                label_t_list.append(len(t_labels))\n",
    "\n",
    "            for _id in ids:\n",
    "                test_bool = torch.where(\n",
    "                    gt_instance[b] == _id, 1., 0.)\n",
    "                gt_list.append(test_bool)\n",
    "\n",
    "            segmentation_labels = torch.stack(gt_list, dim=0)\n",
    "\n",
    "            #segmentation_labels = torch.stack(gt_batch_instances_list,dim=0)\n",
    "            o_h, o_w = segmentation_labels.shape[-2:]\n",
    "            l_h, l_w = math.ceil(o_h/mask_stride), math.ceil(o_w/mask_stride)\n",
    "            m_h, m_w = math.ceil(o_h/match_stride), math.ceil(o_w/match_stride)\n",
    "\n",
    "            gt_masks_for_loss = F.interpolate(segmentation_labels, size=(\n",
    "                l_h, l_w), mode=\"bilinear\", align_corners=False)\n",
    "            gt_masks_for_match = F.interpolate(segmentation_labels, size=(\n",
    "                m_h, m_w), mode=\"bilinear\", align_corners=False)\n",
    "\n",
    "            # labels only continous for clip - this is much more of an tracking id as every class is a vehicle anyways # TODO make work with other types of superclasses other then vehicle\n",
    "            #ids = gt_instance[b].unique()\n",
    "            # print(\n",
    "            #     f\"Labels over {len(gt_instance[b])} for Batch {b+1}, no.labels {label_t_list} no.masks {gt_masks_for_match.shape}\")\n",
    "            target_list.append({\"labels\": ids, \"masks\": segmentation_labels,\n",
    "                               \"match_masks\": segmentation_labels, \"gt_motion_instance\": gt_instance[b]})\n",
    "        return target_list, future_egomotion[:, (self.receptive_field - 1):]\n"
   ]
  },
  {
   "cell_type": "code",
   "execution_count": 31,
   "metadata": {},
   "outputs": [
    {
     "data": {
      "text/plain": [
       "2"
      ]
     },
     "execution_count": 31,
     "metadata": {},
     "output_type": "execute_result"
    }
   ],
   "source": [
    "len(sample[\"semantic_map\"][0])"
   ]
  },
  {
   "cell_type": "code",
   "execution_count": 6,
   "metadata": {},
   "outputs": [],
   "source": [
    "segmentation_labels = sample[\"motion_segmentation\"][0].to(torch.float32)\n",
    "\n",
    "o_h, o_w = (200,200)\n",
    "l_h, l_w = math.ceil(o_h/2), math.ceil(o_w/2)\n",
    "m_h, m_w = math.ceil(o_h/2), math.ceil(o_w/2)\n",
    "gt_masks_for_loss  = F.interpolate(segmentation_labels, size=(l_h, l_w), mode=\"bilinear\", align_corners=False)\n",
    "gt_masks_for_match = F.interpolate(segmentation_labels, size=(m_h, m_w), mode=\"bilinear\", align_corners=False)"
   ]
  },
  {
   "cell_type": "code",
   "execution_count": 38,
   "metadata": {},
   "outputs": [
    {
     "data": {
      "text/plain": [
       "torch.Size([2, 4, 100, 100])"
      ]
     },
     "execution_count": 38,
     "metadata": {},
     "output_type": "execute_result"
    }
   ],
   "source": [
    "gt_masks_for_loss.shape"
   ]
  },
  {
   "cell_type": "code",
   "execution_count": 29,
   "metadata": {},
   "outputs": [],
   "source": [
    "p = pseud_class()\n",
    "target_list = p.prepare_targets(sample)"
   ]
  },
  {
   "cell_type": "code",
   "execution_count": 30,
   "metadata": {},
   "outputs": [
    {
     "data": {
      "text/plain": [
       "tensor([ 1,  2,  3,  4,  5,  6,  7,  8,  9, 10, 11, 12, 13, 14])"
      ]
     },
     "execution_count": 30,
     "metadata": {},
     "output_type": "execute_result"
    }
   ],
   "source": [
    "target_list=target_list[0][0]\n",
    "target_list[\"labels\"]\n"
   ]
  },
  {
   "cell_type": "code",
   "execution_count": 9,
   "metadata": {},
   "outputs": [
    {
     "data": {
      "text/plain": [
       "torch.Size([14, 5, 100, 100])"
      ]
     },
     "execution_count": 9,
     "metadata": {},
     "output_type": "execute_result"
    }
   ],
   "source": [
    "target_list[\"masks\"].shape\n"
   ]
  },
  {
   "cell_type": "code",
   "execution_count": 31,
   "metadata": {},
   "outputs": [],
   "source": [
    "motion_masks=target_list[\"masks\"]\n"
   ]
  },
  {
   "cell_type": "code",
   "execution_count": 22,
   "metadata": {},
   "outputs": [],
   "source": [
    "motion_masks=motion_masks.permute(1,0,2,3)"
   ]
  },
  {
   "cell_type": "code",
   "execution_count": 32,
   "metadata": {},
   "outputs": [
    {
     "data": {
      "text/plain": [
       "torch.Size([14, 5, 200, 200])"
      ]
     },
     "execution_count": 32,
     "metadata": {},
     "output_type": "execute_result"
    }
   ],
   "source": [
    "motion_masks.shape"
   ]
  },
  {
   "cell_type": "code",
   "execution_count": 33,
   "metadata": {},
   "outputs": [
    {
     "data": {
      "text/plain": [
       "torch.Size([5, 5, 200, 200])"
      ]
     },
     "execution_count": 33,
     "metadata": {},
     "output_type": "execute_result"
    }
   ],
   "source": [
    "motion_masks = motion_masks[:5]\n",
    "motion_masks.shape"
   ]
  },
  {
   "cell_type": "code",
   "execution_count": 34,
   "metadata": {},
   "outputs": [],
   "source": [
    "motion_masks=motion_masks.permute(1,0,2,3)"
   ]
  },
  {
   "cell_type": "code",
   "execution_count": 35,
   "metadata": {},
   "outputs": [
    {
     "data": {
      "text/plain": [
       "torch.Size([5, 200, 200])"
      ]
     },
     "execution_count": 35,
     "metadata": {},
     "output_type": "execute_result"
    }
   ],
   "source": [
    "t1_motion_masks = motion_masks[0]\n",
    "t1_motion_masks.shape"
   ]
  },
  {
   "cell_type": "code",
   "execution_count": 37,
   "metadata": {},
   "outputs": [
    {
     "data": {
      "text/plain": [
       "tensor([0., 1.])"
      ]
     },
     "execution_count": 37,
     "metadata": {},
     "output_type": "execute_result"
    }
   ],
   "source": [
    "t1_motion_masks.unique()"
   ]
  },
  {
   "cell_type": "code",
   "execution_count": 36,
   "metadata": {},
   "outputs": [
    {
     "data": {
      "image/png": "[encoded data removed]",
      "text/plain": [
       "<Figure size 1800x400 with 5 Axes>"
      ]
     },
     "metadata": {},
     "output_type": "display_data"
    }
   ],
   "source": [
    "num_instances = t1_motion_masks.shape[0]\n",
    "plt.figure(0, figsize=(18, 4))\n",
    "for i in range(num_instances):\n",
    "    plt.subplot(1, num_instances, i + 1)\n",
    "    plt.imshow(t1_motion_masks[i])\n",
    "    plt.axis('off')\n",
    "    \n",
    "plt.savefig(\n",
    "                f'/home/niklas/ETM_BEV/VIS/viz/t1_motion_masks.png')\n"
   ]
  },
  {
   "cell_type": "code",
   "execution_count": 54,
   "metadata": {},
   "outputs": [
    {
     "data": {
      "text/plain": [
       "(-0.5, 199.5, 199.5, -0.5)"
      ]
     },
     "execution_count": 54,
     "metadata": {},
     "output_type": "execute_result"
    },
    {
     "data": {
      "image/png": "[encoded data removed]",
      "text/plain": [
       "<Figure size 1800x400 with 1 Axes>"
      ]
     },
     "metadata": {},
     "output_type": "display_data"
    }
   ],
   "source": [
    "\n",
    "plt.figure(0, figsize=(18, 4))\n",
    "plt.imshow(t1_motion_masks[2].numpy())\n",
    "plt.axis('off')"
   ]
  },
  {
   "cell_type": "code",
   "execution_count": 24,
   "metadata": {},
   "outputs": [
    {
     "data": {
      "text/plain": [
       "torch.Size([5, 200, 200])"
      ]
     },
     "execution_count": 24,
     "metadata": {},
     "output_type": "execute_result"
    }
   ],
   "source": [
    "gt_instance = target_list[\"gt_motion_instance\"]\n",
    "gt_instance.shape"
   ]
  },
  {
   "cell_type": "code",
   "execution_count": 25,
   "metadata": {},
   "outputs": [
    {
     "data": {
      "text/plain": [
       "<matplotlib.image.AxesImage at 0x7f57a82d85e0>"
      ]
     },
     "execution_count": 25,
     "metadata": {},
     "output_type": "execute_result"
    },
    {
     "data": {
      "image/png": "[encoded data removed]",
      "text/plain": [
       "<Figure size 1800x400 with 1 Axes>"
      ]
     },
     "metadata": {},
     "output_type": "display_data"
    }
   ],
   "source": [
    "plt.figure(0, figsize=(18, 4))\n",
    "plt.imshow(gt_instance[0])\n"
   ]
  },
  {
   "cell_type": "code",
   "execution_count": 38,
   "metadata": {},
   "outputs": [],
   "source": [
    "test_bool = torch.where(\n",
    "    gt_instance[0] == 0, 1., 0.)\n"
   ]
  },
  {
   "cell_type": "code",
   "execution_count": 39,
   "metadata": {},
   "outputs": [
    {
     "data": {
      "text/plain": [
       "<matplotlib.image.AxesImage at 0x7f57a8083b20>"
      ]
     },
     "execution_count": 39,
     "metadata": {},
     "output_type": "execute_result"
    },
    {
     "data": {
      "image/png": "[encoded data removed]",
      "text/plain": [
       "<Figure size 1800x400 with 1 Axes>"
      ]
     },
     "metadata": {},
     "output_type": "display_data"
    }
   ],
   "source": [
    "plt.figure(0, figsize=(18, 4))\n",
    "plt.imshow(test_bool)\n",
    "plt.axis('off')\n",
    "plt.savefig(\n",
    "                    f'/home/niklas/ETM_BEV/VIS/viz/test_bool{0}.png')\n",
    "\n"
   ]
  },
  {
   "cell_type": "code",
   "execution_count": 70,
   "metadata": {},
   "outputs": [
    {
     "data": {
      "text/plain": [
       "25"
      ]
     },
     "execution_count": 70,
     "metadata": {},
     "output_type": "execute_result"
    }
   ],
   "source": [
    "len(sample[\"motion_instance\"][0][1].unique())"
   ]
  },
  {
   "cell_type": "code",
   "execution_count": 12,
   "metadata": {},
   "outputs": [
    {
     "name": "stdout",
     "output_type": "stream",
     "text": [
      "[ 1  2  3  4  5  6  7  8  9 10 11 12 13 14]\n"
     ]
    },
    {
     "ename": "KeyboardInterrupt",
     "evalue": "",
     "output_type": "error",
     "traceback": [
      "\u001b[0;31m---------------------------------------------------------------------------\u001b[0m",
      "\u001b[0;31mKeyboardInterrupt\u001b[0m                         Traceback (most recent call last)",
      "Cell \u001b[0;32mIn [12], line 39\u001b[0m\n\u001b[1;32m     37\u001b[0m     plt\u001b[39m.\u001b[39mimshow(color_instance_i)\n\u001b[1;32m     38\u001b[0m     plt\u001b[39m.\u001b[39maxis(\u001b[39m'\u001b[39m\u001b[39moff\u001b[39m\u001b[39m'\u001b[39m)\n\u001b[0;32m---> 39\u001b[0m     plt\u001b[39m.\u001b[39;49mshow()\n\u001b[1;32m     40\u001b[0m plt\u001b[39m.\u001b[39mfigure(\u001b[39m0\u001b[39m, figsize\u001b[39m=\u001b[39m(\u001b[39m18\u001b[39m, \u001b[39m4\u001b[39m))\n\u001b[1;32m     41\u001b[0m \u001b[39mfor\u001b[39;00m i \u001b[39min\u001b[39;00m \u001b[39mrange\u001b[39m(num_frame):\n",
      "File \u001b[0;32m~/ETM_BEV/venv/lib/python3.8/site-packages/matplotlib/pyplot.py:387\u001b[0m, in \u001b[0;36mshow\u001b[0;34m(*args, **kwargs)\u001b[0m\n\u001b[1;32m    343\u001b[0m \u001b[39m\"\"\"\u001b[39;00m\n\u001b[1;32m    344\u001b[0m \u001b[39mDisplay all open figures.\u001b[39;00m\n\u001b[1;32m    345\u001b[0m \n\u001b[0;32m   (...)\u001b[0m\n\u001b[1;32m    384\u001b[0m \u001b[39mexplicitly there.\u001b[39;00m\n\u001b[1;32m    385\u001b[0m \u001b[39m\"\"\"\u001b[39;00m\n\u001b[1;32m    386\u001b[0m _warn_if_gui_out_of_main_thread()\n\u001b[0;32m--> 387\u001b[0m \u001b[39mreturn\u001b[39;00m _get_backend_mod()\u001b[39m.\u001b[39;49mshow(\u001b[39m*\u001b[39;49margs, \u001b[39m*\u001b[39;49m\u001b[39m*\u001b[39;49mkwargs)\n",
      "File \u001b[0;32m~/ETM_BEV/venv/lib/python3.8/site-packages/matplotlib_inline/backend_inline.py:90\u001b[0m, in \u001b[0;36mshow\u001b[0;34m(close, block)\u001b[0m\n\u001b[1;32m     88\u001b[0m \u001b[39mtry\u001b[39;00m:\n\u001b[1;32m     89\u001b[0m     \u001b[39mfor\u001b[39;00m figure_manager \u001b[39min\u001b[39;00m Gcf\u001b[39m.\u001b[39mget_all_fig_managers():\n\u001b[0;32m---> 90\u001b[0m         display(\n\u001b[1;32m     91\u001b[0m             figure_manager\u001b[39m.\u001b[39;49mcanvas\u001b[39m.\u001b[39;49mfigure,\n\u001b[1;32m     92\u001b[0m             metadata\u001b[39m=\u001b[39;49m_fetch_figure_metadata(figure_manager\u001b[39m.\u001b[39;49mcanvas\u001b[39m.\u001b[39;49mfigure)\n\u001b[1;32m     93\u001b[0m         )\n\u001b[1;32m     94\u001b[0m \u001b[39mfinally\u001b[39;00m:\n\u001b[1;32m     95\u001b[0m     show\u001b[39m.\u001b[39m_to_draw \u001b[39m=\u001b[39m []\n",
      "File \u001b[0;32m~/ETM_BEV/venv/lib/python3.8/site-packages/IPython/core/display_functions.py:298\u001b[0m, in \u001b[0;36mdisplay\u001b[0;34m(include, exclude, metadata, transient, display_id, raw, clear, *objs, **kwargs)\u001b[0m\n\u001b[1;32m    296\u001b[0m     publish_display_data(data\u001b[39m=\u001b[39mobj, metadata\u001b[39m=\u001b[39mmetadata, \u001b[39m*\u001b[39m\u001b[39m*\u001b[39mkwargs)\n\u001b[1;32m    297\u001b[0m \u001b[39melse\u001b[39;00m:\n\u001b[0;32m--> 298\u001b[0m     format_dict, md_dict \u001b[39m=\u001b[39m \u001b[39mformat\u001b[39;49m(obj, include\u001b[39m=\u001b[39;49minclude, exclude\u001b[39m=\u001b[39;49mexclude)\n\u001b[1;32m    299\u001b[0m     \u001b[39mif\u001b[39;00m \u001b[39mnot\u001b[39;00m format_dict:\n\u001b[1;32m    300\u001b[0m         \u001b[39m# nothing to display (e.g. _ipython_display_ took over)\u001b[39;00m\n\u001b[1;32m    301\u001b[0m         \u001b[39mcontinue\u001b[39;00m\n",
      "File \u001b[0;32m~/ETM_BEV/venv/lib/python3.8/site-packages/IPython/core/formatters.py:178\u001b[0m, in \u001b[0;36mDisplayFormatter.format\u001b[0;34m(self, obj, include, exclude)\u001b[0m\n\u001b[1;32m    176\u001b[0m md \u001b[39m=\u001b[39m \u001b[39mNone\u001b[39;00m\n\u001b[1;32m    177\u001b[0m \u001b[39mtry\u001b[39;00m:\n\u001b[0;32m--> 178\u001b[0m     data \u001b[39m=\u001b[39m formatter(obj)\n\u001b[1;32m    179\u001b[0m \u001b[39mexcept\u001b[39;00m:\n\u001b[1;32m    180\u001b[0m     \u001b[39m# FIXME: log the exception\u001b[39;00m\n\u001b[1;32m    181\u001b[0m     \u001b[39mraise\u001b[39;00m\n",
      "File \u001b[0;32m~/ETM_BEV/venv/lib/python3.8/site-packages/decorator.py:232\u001b[0m, in \u001b[0;36mdecorate.<locals>.fun\u001b[0;34m(*args, **kw)\u001b[0m\n\u001b[1;32m    230\u001b[0m \u001b[39mif\u001b[39;00m \u001b[39mnot\u001b[39;00m kwsyntax:\n\u001b[1;32m    231\u001b[0m     args, kw \u001b[39m=\u001b[39m fix(args, kw, sig)\n\u001b[0;32m--> 232\u001b[0m \u001b[39mreturn\u001b[39;00m caller(func, \u001b[39m*\u001b[39;49m(extras \u001b[39m+\u001b[39;49m args), \u001b[39m*\u001b[39;49m\u001b[39m*\u001b[39;49mkw)\n",
      "File \u001b[0;32m~/ETM_BEV/venv/lib/python3.8/site-packages/IPython/core/formatters.py:222\u001b[0m, in \u001b[0;36mcatch_format_error\u001b[0;34m(method, self, *args, **kwargs)\u001b[0m\n\u001b[1;32m    220\u001b[0m \u001b[39m\"\"\"show traceback on failed format call\"\"\"\u001b[39;00m\n\u001b[1;32m    221\u001b[0m \u001b[39mtry\u001b[39;00m:\n\u001b[0;32m--> 222\u001b[0m     r \u001b[39m=\u001b[39m method(\u001b[39mself\u001b[39;49m, \u001b[39m*\u001b[39;49margs, \u001b[39m*\u001b[39;49m\u001b[39m*\u001b[39;49mkwargs)\n\u001b[1;32m    223\u001b[0m \u001b[39mexcept\u001b[39;00m \u001b[39mNotImplementedError\u001b[39;00m:\n\u001b[1;32m    224\u001b[0m     \u001b[39m# don't warn on NotImplementedErrors\u001b[39;00m\n\u001b[1;32m    225\u001b[0m     \u001b[39mreturn\u001b[39;00m \u001b[39mself\u001b[39m\u001b[39m.\u001b[39m_check_return(\u001b[39mNone\u001b[39;00m, args[\u001b[39m0\u001b[39m])\n",
      "File \u001b[0;32m~/ETM_BEV/venv/lib/python3.8/site-packages/IPython/core/formatters.py:339\u001b[0m, in \u001b[0;36mBaseFormatter.__call__\u001b[0;34m(self, obj)\u001b[0m\n\u001b[1;32m    337\u001b[0m     \u001b[39mpass\u001b[39;00m\n\u001b[1;32m    338\u001b[0m \u001b[39melse\u001b[39;00m:\n\u001b[0;32m--> 339\u001b[0m     \u001b[39mreturn\u001b[39;00m printer(obj)\n\u001b[1;32m    340\u001b[0m \u001b[39m# Finally look for special method names\u001b[39;00m\n\u001b[1;32m    341\u001b[0m method \u001b[39m=\u001b[39m get_real_method(obj, \u001b[39mself\u001b[39m\u001b[39m.\u001b[39mprint_method)\n",
      "File \u001b[0;32m~/ETM_BEV/venv/lib/python3.8/site-packages/IPython/core/pylabtools.py:151\u001b[0m, in \u001b[0;36mprint_figure\u001b[0;34m(fig, fmt, bbox_inches, base64, **kwargs)\u001b[0m\n\u001b[1;32m    148\u001b[0m     \u001b[39mfrom\u001b[39;00m \u001b[39mmatplotlib\u001b[39;00m\u001b[39m.\u001b[39;00m\u001b[39mbackend_bases\u001b[39;00m \u001b[39mimport\u001b[39;00m FigureCanvasBase\n\u001b[1;32m    149\u001b[0m     FigureCanvasBase(fig)\n\u001b[0;32m--> 151\u001b[0m fig\u001b[39m.\u001b[39;49mcanvas\u001b[39m.\u001b[39;49mprint_figure(bytes_io, \u001b[39m*\u001b[39;49m\u001b[39m*\u001b[39;49mkw)\n\u001b[1;32m    152\u001b[0m data \u001b[39m=\u001b[39m bytes_io\u001b[39m.\u001b[39mgetvalue()\n\u001b[1;32m    153\u001b[0m \u001b[39mif\u001b[39;00m fmt \u001b[39m==\u001b[39m \u001b[39m'\u001b[39m\u001b[39msvg\u001b[39m\u001b[39m'\u001b[39m:\n",
      "File \u001b[0;32m~/ETM_BEV/venv/lib/python3.8/site-packages/matplotlib/backend_bases.py:2319\u001b[0m, in \u001b[0;36mFigureCanvasBase.print_figure\u001b[0;34m(self, filename, dpi, facecolor, edgecolor, orientation, format, bbox_inches, pad_inches, bbox_extra_artists, backend, **kwargs)\u001b[0m\n\u001b[1;32m   2315\u001b[0m \u001b[39mtry\u001b[39;00m:\n\u001b[1;32m   2316\u001b[0m     \u001b[39m# _get_renderer may change the figure dpi (as vector formats\u001b[39;00m\n\u001b[1;32m   2317\u001b[0m     \u001b[39m# force the figure dpi to 72), so we need to set it again here.\u001b[39;00m\n\u001b[1;32m   2318\u001b[0m     \u001b[39mwith\u001b[39;00m cbook\u001b[39m.\u001b[39m_setattr_cm(\u001b[39mself\u001b[39m\u001b[39m.\u001b[39mfigure, dpi\u001b[39m=\u001b[39mdpi):\n\u001b[0;32m-> 2319\u001b[0m         result \u001b[39m=\u001b[39m print_method(\n\u001b[1;32m   2320\u001b[0m             filename,\n\u001b[1;32m   2321\u001b[0m             facecolor\u001b[39m=\u001b[39;49mfacecolor,\n\u001b[1;32m   2322\u001b[0m             edgecolor\u001b[39m=\u001b[39;49medgecolor,\n\u001b[1;32m   2323\u001b[0m             orientation\u001b[39m=\u001b[39;49morientation,\n\u001b[1;32m   2324\u001b[0m             bbox_inches_restore\u001b[39m=\u001b[39;49m_bbox_inches_restore,\n\u001b[1;32m   2325\u001b[0m             \u001b[39m*\u001b[39;49m\u001b[39m*\u001b[39;49mkwargs)\n\u001b[1;32m   2326\u001b[0m \u001b[39mfinally\u001b[39;00m:\n\u001b[1;32m   2327\u001b[0m     \u001b[39mif\u001b[39;00m bbox_inches \u001b[39mand\u001b[39;00m restore_bbox:\n",
      "File \u001b[0;32m~/ETM_BEV/venv/lib/python3.8/site-packages/matplotlib/backend_bases.py:1648\u001b[0m, in \u001b[0;36m_check_savefig_extra_args.<locals>.wrapper\u001b[0;34m(*args, **kwargs)\u001b[0m\n\u001b[1;32m   1640\u001b[0m     _api\u001b[39m.\u001b[39mwarn_deprecated(\n\u001b[1;32m   1641\u001b[0m         \u001b[39m'\u001b[39m\u001b[39m3.3\u001b[39m\u001b[39m'\u001b[39m, name\u001b[39m=\u001b[39mname, removal\u001b[39m=\u001b[39m\u001b[39m'\u001b[39m\u001b[39m3.6\u001b[39m\u001b[39m'\u001b[39m,\n\u001b[1;32m   1642\u001b[0m         message\u001b[39m=\u001b[39m\u001b[39m'\u001b[39m\u001b[39m%(name)s\u001b[39;00m\u001b[39m() got unexpected keyword argument \u001b[39m\u001b[39m\"\u001b[39m\u001b[39m'\u001b[39m\n\u001b[1;32m   1643\u001b[0m                 \u001b[39m+\u001b[39m arg \u001b[39m+\u001b[39m \u001b[39m'\u001b[39m\u001b[39m\"\u001b[39m\u001b[39m which is no longer supported as of \u001b[39m\u001b[39m'\u001b[39m\n\u001b[1;32m   1644\u001b[0m                 \u001b[39m'\u001b[39m\u001b[39m%(since)s\u001b[39;00m\u001b[39m and will become an error \u001b[39m\u001b[39m'\u001b[39m\n\u001b[1;32m   1645\u001b[0m                 \u001b[39m'\u001b[39m\u001b[39m%(removal)s\u001b[39;00m\u001b[39m'\u001b[39m)\n\u001b[1;32m   1646\u001b[0m     kwargs\u001b[39m.\u001b[39mpop(arg)\n\u001b[0;32m-> 1648\u001b[0m \u001b[39mreturn\u001b[39;00m func(\u001b[39m*\u001b[39;49margs, \u001b[39m*\u001b[39;49m\u001b[39m*\u001b[39;49mkwargs)\n",
      "File \u001b[0;32m~/ETM_BEV/venv/lib/python3.8/site-packages/matplotlib/_api/deprecation.py:415\u001b[0m, in \u001b[0;36mdelete_parameter.<locals>.wrapper\u001b[0;34m(*inner_args, **inner_kwargs)\u001b[0m\n\u001b[1;32m    405\u001b[0m     deprecation_addendum \u001b[39m=\u001b[39m (\n\u001b[1;32m    406\u001b[0m         \u001b[39mf\u001b[39m\u001b[39m\"\u001b[39m\u001b[39mIf any parameter follows \u001b[39m\u001b[39m{\u001b[39;00mname\u001b[39m!r}\u001b[39;00m\u001b[39m, they should be passed as \u001b[39m\u001b[39m\"\u001b[39m\n\u001b[1;32m    407\u001b[0m         \u001b[39mf\u001b[39m\u001b[39m\"\u001b[39m\u001b[39mkeyword, not positionally.\u001b[39m\u001b[39m\"\u001b[39m)\n\u001b[1;32m    408\u001b[0m     warn_deprecated(\n\u001b[1;32m    409\u001b[0m         since,\n\u001b[1;32m    410\u001b[0m         name\u001b[39m=\u001b[39m\u001b[39mrepr\u001b[39m(name),\n\u001b[0;32m   (...)\u001b[0m\n\u001b[1;32m    413\u001b[0m                  \u001b[39melse\u001b[39;00m deprecation_addendum,\n\u001b[1;32m    414\u001b[0m         \u001b[39m*\u001b[39m\u001b[39m*\u001b[39mkwargs)\n\u001b[0;32m--> 415\u001b[0m \u001b[39mreturn\u001b[39;00m func(\u001b[39m*\u001b[39;49minner_args, \u001b[39m*\u001b[39;49m\u001b[39m*\u001b[39;49minner_kwargs)\n",
      "File \u001b[0;32m~/ETM_BEV/venv/lib/python3.8/site-packages/matplotlib/backends/backend_agg.py:541\u001b[0m, in \u001b[0;36mFigureCanvasAgg.print_png\u001b[0;34m(self, filename_or_obj, metadata, pil_kwargs, *args)\u001b[0m\n\u001b[1;32m    494\u001b[0m \u001b[39m\"\"\"\u001b[39;00m\n\u001b[1;32m    495\u001b[0m \u001b[39mWrite the figure to a PNG file.\u001b[39;00m\n\u001b[1;32m    496\u001b[0m \n\u001b[0;32m   (...)\u001b[0m\n\u001b[1;32m    538\u001b[0m \u001b[39m    *metadata*, including the default 'Software' key.\u001b[39;00m\n\u001b[1;32m    539\u001b[0m \u001b[39m\"\"\"\u001b[39;00m\n\u001b[1;32m    540\u001b[0m FigureCanvasAgg\u001b[39m.\u001b[39mdraw(\u001b[39mself\u001b[39m)\n\u001b[0;32m--> 541\u001b[0m mpl\u001b[39m.\u001b[39;49mimage\u001b[39m.\u001b[39;49mimsave(\n\u001b[1;32m    542\u001b[0m     filename_or_obj, \u001b[39mself\u001b[39;49m\u001b[39m.\u001b[39;49mbuffer_rgba(), \u001b[39mformat\u001b[39;49m\u001b[39m=\u001b[39;49m\u001b[39m\"\u001b[39;49m\u001b[39mpng\u001b[39;49m\u001b[39m\"\u001b[39;49m, origin\u001b[39m=\u001b[39;49m\u001b[39m\"\u001b[39;49m\u001b[39mupper\u001b[39;49m\u001b[39m\"\u001b[39;49m,\n\u001b[1;32m    543\u001b[0m     dpi\u001b[39m=\u001b[39;49m\u001b[39mself\u001b[39;49m\u001b[39m.\u001b[39;49mfigure\u001b[39m.\u001b[39;49mdpi, metadata\u001b[39m=\u001b[39;49mmetadata, pil_kwargs\u001b[39m=\u001b[39;49mpil_kwargs)\n",
      "File \u001b[0;32m~/ETM_BEV/venv/lib/python3.8/site-packages/matplotlib/image.py:1675\u001b[0m, in \u001b[0;36mimsave\u001b[0;34m(fname, arr, vmin, vmax, cmap, format, origin, dpi, metadata, pil_kwargs)\u001b[0m\n\u001b[1;32m   1673\u001b[0m pil_kwargs\u001b[39m.\u001b[39msetdefault(\u001b[39m\"\u001b[39m\u001b[39mformat\u001b[39m\u001b[39m\"\u001b[39m, \u001b[39mformat\u001b[39m)\n\u001b[1;32m   1674\u001b[0m pil_kwargs\u001b[39m.\u001b[39msetdefault(\u001b[39m\"\u001b[39m\u001b[39mdpi\u001b[39m\u001b[39m\"\u001b[39m, (dpi, dpi))\n\u001b[0;32m-> 1675\u001b[0m image\u001b[39m.\u001b[39;49msave(fname, \u001b[39m*\u001b[39;49m\u001b[39m*\u001b[39;49mpil_kwargs)\n",
      "File \u001b[0;32m~/ETM_BEV/venv/lib/python3.8/site-packages/PIL/Image.py:2320\u001b[0m, in \u001b[0;36mImage.save\u001b[0;34m(self, fp, format, **params)\u001b[0m\n\u001b[1;32m   2317\u001b[0m         fp \u001b[39m=\u001b[39m builtins\u001b[39m.\u001b[39mopen(filename, \u001b[39m\"\u001b[39m\u001b[39mw+b\u001b[39m\u001b[39m\"\u001b[39m)\n\u001b[1;32m   2319\u001b[0m \u001b[39mtry\u001b[39;00m:\n\u001b[0;32m-> 2320\u001b[0m     save_handler(\u001b[39mself\u001b[39;49m, fp, filename)\n\u001b[1;32m   2321\u001b[0m \u001b[39mexcept\u001b[39;00m \u001b[39mException\u001b[39;00m:\n\u001b[1;32m   2322\u001b[0m     \u001b[39mif\u001b[39;00m open_fp:\n",
      "File \u001b[0;32m~/ETM_BEV/venv/lib/python3.8/site-packages/PIL/PngImagePlugin.py:1374\u001b[0m, in \u001b[0;36m_save\u001b[0;34m(im, fp, filename, chunk, save_all)\u001b[0m\n\u001b[1;32m   1372\u001b[0m     _write_multiple_frames(im, fp, chunk, rawmode)\n\u001b[1;32m   1373\u001b[0m \u001b[39melse\u001b[39;00m:\n\u001b[0;32m-> 1374\u001b[0m     ImageFile\u001b[39m.\u001b[39;49m_save(im, _idat(fp, chunk), [(\u001b[39m\"\u001b[39;49m\u001b[39mzip\u001b[39;49m\u001b[39m\"\u001b[39;49m, (\u001b[39m0\u001b[39;49m, \u001b[39m0\u001b[39;49m) \u001b[39m+\u001b[39;49m im\u001b[39m.\u001b[39;49msize, \u001b[39m0\u001b[39;49m, rawmode)])\n\u001b[1;32m   1376\u001b[0m \u001b[39mif\u001b[39;00m info:\n\u001b[1;32m   1377\u001b[0m     \u001b[39mfor\u001b[39;00m info_chunk \u001b[39min\u001b[39;00m info\u001b[39m.\u001b[39mchunks:\n",
      "File \u001b[0;32m~/ETM_BEV/venv/lib/python3.8/site-packages/PIL/ImageFile.py:518\u001b[0m, in \u001b[0;36m_save\u001b[0;34m(im, fp, tile, bufsize)\u001b[0m\n\u001b[1;32m    515\u001b[0m \u001b[39mif\u001b[39;00m exc:\n\u001b[1;32m    516\u001b[0m     \u001b[39m# compress to Python file-compatible object\u001b[39;00m\n\u001b[1;32m    517\u001b[0m     \u001b[39mwhile\u001b[39;00m \u001b[39mTrue\u001b[39;00m:\n\u001b[0;32m--> 518\u001b[0m         l, s, d \u001b[39m=\u001b[39m encoder\u001b[39m.\u001b[39;49mencode(bufsize)\n\u001b[1;32m    519\u001b[0m         fp\u001b[39m.\u001b[39mwrite(d)\n\u001b[1;32m    520\u001b[0m         \u001b[39mif\u001b[39;00m s:\n",
      "\u001b[0;31mKeyboardInterrupt\u001b[0m: "
     ]
    }
   ],
   "source": [
    "\n",
    "gt_instances = sample[\"motion_instance\"][0]\n",
    "#print(f\"{gt_instance.shape = }\")\n",
    "future_egomotion = sample[\"future_egomotions\"][0]\n",
    "bev_transform = sample.get(\"aug_transform\", None)\n",
    "receptive_field = 4\n",
    "\n",
    "gt_instance = (\n",
    "    warper.cumulative_warp_features_reverse(\n",
    "        gt_instances.float().unsqueeze(2),\n",
    "        future_egomotion[:, (receptive_field - 1):],\n",
    "        mode=\"nearest\",\n",
    "        bev_transform=bev_transform,\n",
    "    )\n",
    "    .long()\n",
    "    .contiguous()[:, :, 0]\n",
    ")\n",
    "\n",
    "temporal_instances = gt_instance[0]\n",
    "num_frame = temporal_instances.shape[0]\n",
    "temporal_instances_real = gt_instance[0].clone()\n",
    "\n",
    "\n",
    "instance_ids = np.unique(temporal_instances_real)[1:]\n",
    "instance_ids = instance_ids[instance_ids != ignore_index]\n",
    "print(instance_ids)\n",
    "instance_map = dict(zip(instance_ids, instance_ids))\n",
    "\n",
    "#num_frame = 1\n",
    "temporal_instances[temporal_instances != 5] = 0\n",
    "\n",
    "plt.figure(0, figsize=(18, 4))\n",
    "for i in range(num_frame):\n",
    "    color_instance_i = plot_instance_map(\n",
    "        temporal_instances[i], instance_map)\n",
    "    plt.subplot(1, num_frame, i + 1)\n",
    "    plt.imshow(color_instance_i)\n",
    "    plt.axis('off')\n",
    "    plt.show()\n",
    "plt.figure(0, figsize=(18, 4))\n",
    "for i in range(num_frame):\n",
    "    color_instance_i = plot_instance_map(\n",
    "        temporal_instances_real[i], instance_map)\n",
    "    plt.subplot(1, num_frame, i + 1)\n",
    "    plt.imshow(color_instance_i)\n",
    "    plt.axis('off')\n",
    "\n",
    "    # plt.savefig(\n",
    "    #     f'{\"/home/niklas/ETM_BEV/BEVerse/viz\"}/temporal_instanceswarped_{i}.png')\n",
    "    plt.show()\n"
   ]
  },
  {
   "cell_type": "code",
   "execution_count": 125,
   "metadata": {},
   "outputs": [],
   "source": [
    "sample = next(iter_loader)\n"
   ]
  },
  {
   "cell_type": "code",
   "execution_count": 127,
   "metadata": {},
   "outputs": [
    {
     "name": "stdout",
     "output_type": "stream",
     "text": [
      "[ 1  2  3  6  7  8  9 10 11 12 13 14 15 16 17 18 19 20 21 22 23 24 25 26\n",
      " 27 28 29 30 32 34 35]\n"
     ]
    },
    {
     "data": {
      "image/png": "[encoded data removed]",
      "text/plain": [
       "<Figure size 1800x400 with 1 Axes>"
      ]
     },
     "metadata": {},
     "output_type": "display_data"
    },
    {
     "data": {
      "image/png": "[encoded data removed]",
      "text/plain": [
       "<Figure size 640x480 with 1 Axes>"
      ]
     },
     "metadata": {},
     "output_type": "display_data"
    },
    {
     "data": {
      "image/png": "[encoded data removed]",
      "text/plain": [
       "<Figure size 640x480 with 1 Axes>"
      ]
     },
     "metadata": {},
     "output_type": "display_data"
    },
    {
     "data": {
      "image/png": "[encoded data removed]",
      "text/plain": [
       "<Figure size 640x480 with 1 Axes>"
      ]
     },
     "metadata": {},
     "output_type": "display_data"
    },
    {
     "data": {
      "image/png": "[encoded data removed]",
      "text/plain": [
       "<Figure size 1800x400 with 1 Axes>"
      ]
     },
     "metadata": {},
     "output_type": "display_data"
    },
    {
     "data": {
      "image/png": "[encoded data removed]",
      "text/plain": [
       "<Figure size 640x480 with 1 Axes>"
      ]
     },
     "metadata": {},
     "output_type": "display_data"
    },
    {
     "data": {
      "image/png": "[encoded data removed]",
      "text/plain": [
       "<Figure size 640x480 with 1 Axes>"
      ]
     },
     "metadata": {},
     "output_type": "display_data"
    },
    {
     "data": {
      "image/png": "[encoded data removed]",
      "text/plain": [
       "<Figure size 640x480 with 1 Axes>"
      ]
     },
     "metadata": {},
     "output_type": "display_data"
    }
   ],
   "source": [
    "sample = next(iter_loader)\n",
    "gt_instances = sample[\"motion_instance\"][0]\n",
    "#print(f\"{gt_instance.shape = }\")\n",
    "future_egomotion = sample[\"future_egomotions\"][0]\n",
    "bev_transform = sample.get(\"aug_transform\", None)\n",
    "receptive_field = 4\n",
    "\n",
    "gt_instance = (\n",
    "    warper.cumulative_warp_features_reverse(\n",
    "        gt_instances.float().unsqueeze(2),\n",
    "        future_egomotion[:, (receptive_field - 1):],\n",
    "        mode=\"nearest\",\n",
    "        bev_transform=bev_transform,\n",
    "    )\n",
    "    .long()\n",
    "    .contiguous()[:, :, 0]\n",
    ")\n",
    "\n",
    "temporal_instances = gt_instance[0]\n",
    "num_frame = temporal_instances.shape[0]\n",
    "temporal_instances_real = gt_instance[0].clone()\n",
    "\n",
    "\n",
    "instance_ids = np.unique(temporal_instances_real)[1:]\n",
    "instance_ids = instance_ids[instance_ids != ignore_index]\n",
    "print(instance_ids)\n",
    "instance_map = dict(zip(instance_ids, instance_ids))\n",
    "\n",
    "#num_frame = 1\n",
    "temporal_instances[temporal_instances != 5] = 0\n",
    "\n",
    "plt.figure(0, figsize=(18, 4))\n",
    "for i in range(num_frame):\n",
    "    color_instance_i = plot_instance_map(\n",
    "        temporal_instances[i], instance_map)\n",
    "    plt.subplot(1, num_frame, i + 1)\n",
    "    plt.imshow(color_instance_i)\n",
    "    plt.axis('off')\n",
    "    plt.show()\n",
    "plt.figure(0, figsize=(18, 4))\n",
    "for i in range(num_frame):\n",
    "    color_instance_i = plot_instance_map(\n",
    "        temporal_instances_real[i], instance_map)\n",
    "    plt.subplot(1, num_frame, i + 1)\n",
    "    plt.imshow(color_instance_i)\n",
    "    plt.axis('off')\n",
    "\n",
    "    # plt.savefig(\n",
    "    #     f'{\"/home/niklas/ETM_BEV/BEVerse/viz\"}/temporal_instanceswarped_{i}.png')\n",
    "    plt.show()\n"
   ]
  },
  {
   "cell_type": "code",
   "execution_count": 85,
   "metadata": {},
   "outputs": [
    {
     "data": {
      "text/plain": [
       "dict_keys(['img_metas', 'img_inputs', 'semantic_indices', 'semantic_map', 'future_egomotions', 'gt_bboxes_3d', 'gt_labels_3d', 'motion_segmentation', 'motion_instance', 'instance_centerness', 'instance_offset', 'instance_flow', 'has_invalid_frame', 'img_is_valid'])"
      ]
     },
     "execution_count": 85,
     "metadata": {},
     "output_type": "execute_result"
    }
   ],
   "source": [
    "sample.keys()"
   ]
  },
  {
   "cell_type": "code",
   "execution_count": 9,
   "metadata": {},
   "outputs": [
    {
     "name": "stdout",
     "output_type": "stream",
     "text": [
      "1\n"
     ]
    }
   ],
   "source": [
    "temporal_instances = sample['motion_instance'][0]\n",
    "num_frame = temporal_instances.shape[0]\n"
   ]
  },
  {
   "cell_type": "code",
   "execution_count": 19,
   "metadata": {},
   "outputs": [
    {
     "data": {
      "text/plain": [
       "torch.Size([1, 4, 200, 200])"
      ]
     },
     "execution_count": 19,
     "metadata": {},
     "output_type": "execute_result"
    }
   ],
   "source": [
    "temporal_instances.shape"
   ]
  },
  {
   "cell_type": "code",
   "execution_count": 10,
   "metadata": {},
   "outputs": [],
   "source": [
    "instance_ids = np.unique(temporal_instances)[1:]\n"
   ]
  },
  {
   "cell_type": "code",
   "execution_count": 11,
   "metadata": {},
   "outputs": [
    {
     "data": {
      "text/plain": [
       "array([ 1,  2,  3,  4,  5,  6,  7,  8,  9, 10, 11, 12, 13, 14, 15, 16, 17,\n",
       "       18, 19, 20, 21])"
      ]
     },
     "execution_count": 11,
     "metadata": {},
     "output_type": "execute_result"
    }
   ],
   "source": [
    "instance_ids\n"
   ]
  },
  {
   "cell_type": "code",
   "execution_count": 13,
   "metadata": {},
   "outputs": [
    {
     "data": {
      "text/plain": [
       "array([ 1,  2,  3,  4,  5,  6,  7,  8,  9, 10, 11, 12, 13, 14, 15, 16, 17,\n",
       "       18, 19, 20, 21])"
      ]
     },
     "execution_count": 13,
     "metadata": {},
     "output_type": "execute_result"
    }
   ],
   "source": [
    "instance_ids = instance_ids[instance_ids != ignore_index]\n",
    "instance_ids\n"
   ]
  },
  {
   "cell_type": "code",
   "execution_count": 15,
   "metadata": {},
   "outputs": [
    {
     "data": {
      "text/plain": [
       "{1: 1,\n",
       " 2: 2,\n",
       " 3: 3,\n",
       " 4: 4,\n",
       " 5: 5,\n",
       " 6: 6,\n",
       " 7: 7,\n",
       " 8: 8,\n",
       " 9: 9,\n",
       " 10: 10,\n",
       " 11: 11,\n",
       " 12: 12,\n",
       " 13: 13,\n",
       " 14: 14,\n",
       " 15: 15,\n",
       " 16: 16,\n",
       " 17: 17,\n",
       " 18: 18,\n",
       " 19: 19,\n",
       " 20: 20,\n",
       " 21: 21}"
      ]
     },
     "execution_count": 15,
     "metadata": {},
     "output_type": "execute_result"
    }
   ],
   "source": [
    "instance_map = dict(zip(instance_ids, instance_ids))\n",
    "instance_map\n"
   ]
  },
  {
   "cell_type": "code",
   "execution_count": 20,
   "metadata": {},
   "outputs": [
    {
     "data": {
      "text/plain": [
       "torch.Size([4, 200, 200])"
      ]
     },
     "execution_count": 20,
     "metadata": {},
     "output_type": "execute_result"
    }
   ],
   "source": [
    "temporal_instances[0].shape"
   ]
  },
  {
   "cell_type": "code",
   "execution_count": 23,
   "metadata": {},
   "outputs": [
    {
     "data": {
      "text/plain": [
       "dict_keys(['img_metas', 'img_inputs', 'semantic_indices', 'semantic_map', 'future_egomotions', 'gt_bboxes_3d', 'gt_labels_3d', 'motion_segmentation', 'motion_instance', 'instance_centerness', 'instance_offset', 'instance_flow', 'has_invalid_frame', 'img_is_valid'])"
      ]
     },
     "execution_count": 23,
     "metadata": {},
     "output_type": "execute_result"
    }
   ],
   "source": [
    "sample.keys()\n"
   ]
  },
  {
   "cell_type": "code",
   "execution_count": 77,
   "metadata": {},
   "outputs": [
    {
     "data": {
      "text/plain": [
       "torch.Size([1, 4, 2, 200, 200])"
      ]
     },
     "execution_count": 77,
     "metadata": {},
     "output_type": "execute_result"
    }
   ],
   "source": [
    "sample[\"instance_flow\"][0].shape\n"
   ]
  },
  {
   "cell_type": "code",
   "execution_count": null,
   "metadata": {},
   "outputs": [],
   "source": []
  },
  {
   "cell_type": "code",
   "execution_count": 79,
   "metadata": {},
   "outputs": [],
   "source": [
    "out = sample[\"instance_flow\"][0].reshape(\n",
    "    (4, 2, sample[\"instance_flow\"][0].shape[-2], sample[\"instance_flow\"][0].shape[-1])).clone()\n"
   ]
  },
  {
   "cell_type": "code",
   "execution_count": 80,
   "metadata": {},
   "outputs": [
    {
     "data": {
      "text/plain": [
       "torch.Size([4, 2, 200, 200])"
      ]
     },
     "execution_count": 80,
     "metadata": {},
     "output_type": "execute_result"
    }
   ],
   "source": []
  },
  {
   "cell_type": "code",
   "execution_count": 81,
   "metadata": {},
   "outputs": [
    {
     "data": {
      "text/plain": [
       "array([  0.,   1.,   2.,   4., 255.], dtype=float32)"
      ]
     },
     "execution_count": 81,
     "metadata": {},
     "output_type": "execute_result"
    }
   ],
   "source": [
    "np.unique(out[0])[1:]\n"
   ]
  },
  {
   "cell_type": "code",
   "execution_count": 68,
   "metadata": {},
   "outputs": [],
   "source": [
    "int_out = out.to(torch.int16).numpy()"
   ]
  },
  {
   "cell_type": "code",
   "execution_count": 59,
   "metadata": {},
   "outputs": [
    {
     "data": {
      "text/plain": [
       "torch.Size([3, 200, 400])"
      ]
     },
     "execution_count": 59,
     "metadata": {},
     "output_type": "execute_result"
    }
   ],
   "source": [
    "out.shape"
   ]
  },
  {
   "cell_type": "code",
   "execution_count": 61,
   "metadata": {},
   "outputs": [
    {
     "data": {
      "text/plain": [
       "(3, 200, 400)"
      ]
     },
     "execution_count": 61,
     "metadata": {},
     "output_type": "execute_result"
    }
   ],
   "source": [
    "int_out.shape"
   ]
  },
  {
   "cell_type": "code",
   "execution_count": 69,
   "metadata": {},
   "outputs": [
    {
     "data": {
      "text/plain": [
       "array([0, 1, 2, 3, 4], dtype=int16)"
      ]
     },
     "execution_count": 69,
     "metadata": {},
     "output_type": "execute_result"
    }
   ],
   "source": [
    "c = 1\n",
    "for i in range(len(int_out)):\n",
    "    int_out[i] = int_out[i]*c\n",
    "    c +=1\n",
    "np.unique(int_out)"
   ]
  },
  {
   "cell_type": "code",
   "execution_count": 53,
   "metadata": {},
   "outputs": [
    {
     "data": {
      "text/plain": [
       "(2,)"
      ]
     },
     "execution_count": 53,
     "metadata": {},
     "output_type": "execute_result"
    }
   ],
   "source": [
    "int_out.shape"
   ]
  },
  {
   "cell_type": "code",
   "execution_count": 70,
   "metadata": {},
   "outputs": [
    {
     "data": {
      "image/png": "[encoded data removed]",
      "text/plain": [
       "<Figure size 1800x400 with 3 Axes>"
      ]
     },
     "metadata": {},
     "output_type": "display_data"
    }
   ],
   "source": [
    "plt.figure(0, figsize=(18, 4))\n",
    "for i in range(3):\n",
    "    plt.subplot(1, num_frame, i + 1)\n",
    "    plt.imshow(int_out[i])\n",
    "    plt.axis('off')\n"
   ]
  },
  {
   "cell_type": "code",
   "execution_count": 22,
   "metadata": {},
   "outputs": [],
   "source": [
    "temporal_instances = sample['motion_instance'][0][0]\n",
    "num_frame = temporal_instances.shape[0]\n",
    "\n",
    "instance_ids = np.unique(temporal_instances)[1:]\n",
    "instance_ids = instance_ids[instance_ids != ignore_index]\n",
    "instance_map = dict(zip(instance_ids, instance_ids))\n",
    "\n",
    "plt.figure(0, figsize=(18, 4))\n",
    "for i in range(num_frame):\n",
    "    color_instance_i = plot_instance_map(\n",
    "        temporal_instances[i], instance_map)\n",
    "    plt.subplot(1, num_frame, i + 1)\n",
    "    plt.imshow(color_instance_i)\n",
    "    plt.axis('off')\n",
    "\n",
    "plt.savefig(\n",
    "    '{}/temporal_instances.png'.format(r'/home/niklas/ETM_BEV/BEVerse/viz'))\n",
    "plt.close()\n"
   ]
  },
  {
   "cell_type": "code",
   "execution_count": 107,
   "metadata": {},
   "outputs": [],
   "source": [
    "\n"
   ]
  },
  {
   "cell_type": "code",
   "execution_count": 93,
   "metadata": {},
   "outputs": [
    {
     "data": {
      "text/plain": [
       "NoneType"
      ]
     },
     "execution_count": 93,
     "metadata": {},
     "output_type": "execute_result"
    }
   ],
   "source": [
    "type(bev_transform)\n"
   ]
  },
  {
   "cell_type": "code",
   "execution_count": 89,
   "metadata": {},
   "outputs": [
    {
     "data": {
      "text/plain": [
       "torch.Size([1, 4, 200, 200])"
      ]
     },
     "execution_count": 89,
     "metadata": {},
     "output_type": "execute_result"
    }
   ],
   "source": [
    "gt_instances.shape\n"
   ]
  },
  {
   "cell_type": "code",
   "execution_count": 88,
   "metadata": {},
   "outputs": [
    {
     "data": {
      "text/plain": [
       "torch.Size([1, 4, 1, 200, 200])"
      ]
     },
     "execution_count": 88,
     "metadata": {},
     "output_type": "execute_result"
    }
   ],
   "source": [
    "gt_instances.float().unsqueeze(2).shape\n"
   ]
  },
  {
   "cell_type": "code",
   "execution_count": 92,
   "metadata": {},
   "outputs": [
    {
     "data": {
      "text/plain": [
       "torch.Size([1, 4, 6])"
      ]
     },
     "execution_count": 92,
     "metadata": {},
     "output_type": "execute_result"
    }
   ],
   "source": [
    "future_egomotion[0][:, (receptive_field - 1):].shape\n"
   ]
  },
  {
   "cell_type": "code",
   "execution_count": 108,
   "metadata": {},
   "outputs": [],
   "source": [
    "\n"
   ]
  },
  {
   "cell_type": "code",
   "execution_count": 111,
   "metadata": {},
   "outputs": [],
   "source": [
    "temporal_instances = sample['motion_instance'][0][0]\n",
    "num_frame = temporal_instances.shape[0]\n",
    "\n",
    "instance_ids = np.unique(temporal_instances)[1:]\n",
    "instance_ids = instance_ids[instance_ids != ignore_index]\n",
    "instance_map = dict(zip(instance_ids, instance_ids))\n",
    "\n",
    "\n",
    "for i in range(num_frame):\n",
    "    plt.figure(0, figsize=(18, 4))\n",
    "    color_instance_i = plot_instance_map(\n",
    "        temporal_instances[i], instance_map)\n",
    "    #plt.subplot(1, num_frame, i + 1)\n",
    "    plt.imshow(color_instance_i)\n",
    "    plt.axis('off')\n",
    "    plt.savefig(\n",
    "        f'/home/niklas/ETM_BEV/BEVerse/viz/temporal_instances_not_warped_{i}.png')\n",
    "    plt.close()\n"
   ]
  },
  {
   "cell_type": "code",
   "execution_count": 101,
   "metadata": {},
   "outputs": [
    {
     "data": {
      "text/plain": [
       "torch.Size([1, 4, 200, 200])"
      ]
     },
     "execution_count": 101,
     "metadata": {},
     "output_type": "execute_result"
    }
   ],
   "source": [
    "temporal_instances.shape"
   ]
  },
  {
   "cell_type": "code",
   "execution_count": 102,
   "metadata": {},
   "outputs": [
    {
     "data": {
      "text/plain": [
       "torch.Size([1, 4, 200, 200])"
      ]
     },
     "execution_count": 102,
     "metadata": {},
     "output_type": "execute_result"
    }
   ],
   "source": [
    "gt_instance.shape"
   ]
  },
  {
   "cell_type": "code",
   "execution_count": 103,
   "metadata": {},
   "outputs": [
    {
     "data": {
      "text/plain": [
       "1"
      ]
     },
     "execution_count": 103,
     "metadata": {},
     "output_type": "execute_result"
    }
   ],
   "source": [
    "\n"
   ]
  },
  {
   "cell_type": "code",
   "execution_count": 110,
   "metadata": {},
   "outputs": [],
   "source": []
  },
  {
   "attachments": {},
   "cell_type": "markdown",
   "metadata": {},
   "source": [
    "# VIS Model"
   ]
  },
  {
   "cell_type": "code",
   "execution_count": null,
   "metadata": {},
   "outputs": [],
   "source": [
    "from mmcv.runner import (HOOKS, build_optimizer,\n",
    "                         build_runner)\n",
    "from mmdet3d.utils import collect_env\n",
    "from mmdet.datasets import (build_dataloader, build_dataset,\n",
    "                            replace_ImageToTensor)\n",
    "from mmcv.parallel import MMDataParallel\n",
    "from mmdet3d.datasets import build_dataset\n",
    "from mmdet3d.models import build_model\n",
    "from mmcv.runner import wrap_fp16_model\n",
    "from mmcv import Config\n",
    "from timeit import default_timer as timer\n",
    "import torch.utils.benchmark as benchmark\n",
    "import torch.nn as nn\n",
    "import torch\n",
    "from mmdet import __version__ as mmdet_version\n",
    "from mmdet3d import __version__ as mmdet3d_version\n",
    "from mmseg import __version__ as mmseg_version\n",
    "import os\n",
    "from custome_logger import setup_custom_logger\n",
    "logger = setup_custom_logger()\n",
    "logger.debug(\"test\")\n",
    "torch.backends.cudnn.benchmark = True\n",
    "\n",
    "\n",
    "def update_cfg(\n",
    "    cfg,\n",
    "    n_future=4,\n",
    "    receptive_field=3,\n",
    "    resize_lim=(0.38, 0.55),\n",
    "    final_dim=(256, 704),\n",
    "    grid_conf={\n",
    "        \"xbound\": [-51.2, 51.2, 0.8],\n",
    "        \"ybound\": [-51.2, 51.2, 0.8],\n",
    "        \"zbound\": [-10.0, 10.0, 20.0],\n",
    "        \"dbound\": [1.0, 60.0, 1.0],\n",
    "    },\n",
    "    det_grid_conf={\n",
    "        \"xbound\": [-51.2, 51.2, 0.8],\n",
    "        \"ybound\": [-51.2, 51.2, 0.8],\n",
    "        \"zbound\": [-10.0, 10.0, 20.0],\n",
    "        \"dbound\": [1.0, 60.0, 1.0],\n",
    "    },\n",
    "    map_grid_conf={\n",
    "        \"xbound\": [-30.0, 30.0, 0.15],\n",
    "        \"ybound\": [-15.0, 15.0, 0.15],\n",
    "        \"zbound\": [-10.0, 10.0, 20.0],\n",
    "        \"dbound\": [1.0, 60.0, 1.0],\n",
    "    },\n",
    "    motion_grid_conf={\n",
    "        \"xbound\": [-50.0, 50.0, 0.5],\n",
    "        \"ybound\": [-50.0, 50.0, 0.5],\n",
    "        \"zbound\": [-10.0, 10.0, 20.0],\n",
    "        \"dbound\": [1.0, 60.0, 1.0],\n",
    "    },\n",
    "    t_input_shape=(128, 128),\n",
    "    point_cloud_range=[-51.2, -51.2, -5.0, 51.2, 51.2, 3.0],\n",
    "):\n",
    "\n",
    "    cfg[\"det_grid_conf\"] = det_grid_conf\n",
    "    cfg[\"map_grid_conf\"] = map_grid_conf\n",
    "    cfg[\"motion_grid_conf\"] = motion_grid_conf\n",
    "    cfg[\"grid_conf\"] = det_grid_conf\n",
    "\n",
    "    cfg[\"model\"][\"temporal_model\"][\"input_shape\"] = t_input_shape\n",
    "\n",
    "    cfg[\"data\"][\"val\"][\"pipeline\"][0][\"data_aug_conf\"][\"resize_lim\"] = resize_lim\n",
    "    cfg[\"data\"][\"train\"][\"dataset\"][\"pipeline\"][0][\"data_aug_conf\"][\n",
    "        \"resize_lim\"\n",
    "    ] = resize_lim\n",
    "    cfg[\"data\"][\"val\"][\"pipeline\"][0][\"data_aug_conf\"][\"final_dim\"] = final_dim\n",
    "    cfg[\"data\"][\"train\"][\"dataset\"][\"pipeline\"][0][\"data_aug_conf\"][\n",
    "        \"final_dim\"\n",
    "    ] = final_dim\n",
    "\n",
    "    cfg[\"data\"][\"test\"][\"pipeline\"][0][\"data_aug_conf\"][\"resize_lim\"] = resize_lim\n",
    "    cfg[\"data\"][\"test\"][\"pipeline\"][0][\"data_aug_conf\"][\"final_dim\"] = final_dim\n",
    "\n",
    "    cfg[\"model\"][\"pts_bbox_head\"][\"cfg_motion\"][\n",
    "        \"grid_conf\"\n",
    "    ] = motion_grid_conf  # motion_grid\n",
    "    cfg[\"model\"][\"temporal_model\"][\"grid_conf\"] = grid_conf\n",
    "    cfg[\"model\"][\"transformer\"][\"grid_conf\"] = grid_conf\n",
    "    cfg[\"model\"][\"pts_bbox_head\"][\"grid_conf\"] = grid_conf\n",
    "    cfg[\"data\"][\"train\"][\"dataset\"][\"grid_conf\"] = motion_grid_conf\n",
    "    cfg[\"data\"][\"val\"][\"pipeline\"][3][\"grid_conf\"] = motion_grid_conf\n",
    "    cfg[\"data\"][\"test\"][\"pipeline\"][3][\"grid_conf\"] = motion_grid_conf\n",
    "    cfg[\"data\"][\"val\"][\"grid_conf\"] = grid_conf\n",
    "    cfg[\"data\"][\"test\"][\"grid_conf\"] = grid_conf\n",
    "\n",
    "    cfg[\"model\"][\"pts_bbox_head\"][\"det_grid_conf\"] = det_grid_conf\n",
    "\n",
    "    cfg[\"model\"][\"pts_bbox_head\"][\"map_grid_conf\"] = map_grid_conf\n",
    "    cfg[\"data\"][\"train\"][\"dataset\"][\"map_grid_conf\"] = map_grid_conf\n",
    "    cfg[\"data\"][\"test\"][\"pipeline\"][2][\"map_grid_conf\"] = map_grid_conf\n",
    "    cfg[\"data\"][\"val\"][\"pipeline\"][2][\"map_grid_conf\"] = map_grid_conf\n",
    "    cfg[\"data\"][\"test\"][\"map_grid_conf\"] = map_grid_conf\n",
    "    cfg[\"data\"][\"val\"][\"map_grid_conf\"] = map_grid_conf\n",
    "\n",
    "    cfg[\"model\"][\"pts_bbox_head\"][\"motion_grid_conf\"] = motion_grid_conf\n",
    "\n",
    "    cfg[\"data\"][\"test\"][\"pipeline\"][5][\"point_cloud_range\"] = point_cloud_range\n",
    "    cfg[\"data\"][\"train\"][\"pipeline\"][5][\n",
    "        \"point_cloud_range\"\n",
    "    ] = point_cloud_range  # point_cloud_range=None\n",
    "    cfg[\"data\"][\"train\"][\"pipeline\"][6][\n",
    "        \"point_cloud_range\"\n",
    "    ] = point_cloud_range  # 'point_cloud_range =None\n",
    "    cfg[\"data\"][\"val\"][\"pipeline\"][5][\"point_cloud_range\"] = point_cloud_range\n",
    "\n",
    "    cfg[\"model\"][\"pts_bbox_head\"][\"cfg_motion\"][\"receptive_field\"] = receptive_field\n",
    "    cfg[\"data\"][\"train\"][\"dataset\"][\"receptive_field\"] = receptive_field\n",
    "    cfg[\"model\"][\"temporal_model\"][\"receptive_field\"] = receptive_field\n",
    "    cfg[\"data\"][\"test\"][\"receptive_field\"] = receptive_field\n",
    "    cfg[\"data\"][\"val\"][\"receptive_field\"] = receptive_field\n",
    "\n",
    "    cfg[\"data\"][\"val\"][\"future_frames\"] = n_future\n",
    "    cfg[\"model\"][\"pts_bbox_head\"][\"cfg_motion\"][\"n_future\"] = n_future\n",
    "    cfg[\"data\"][\"test\"][\"future_frames\"] = n_future\n",
    "    cfg[\"data\"][\"train\"][\"dataset\"][\"future_frames\"] = n_future\n",
    "\n",
    "    cfg[\"data\"][\"train\"][\"dataset\"][\"pipeline\"][4][\"map_grid_conf\"] = map_grid_conf\n",
    "    cfg[\"data\"][\"train\"][\"dataset\"][\"pipeline\"][5][\"grid_conf\"] = motion_grid_conf\n",
    "    cfg[\"data\"][\"train\"][\"dataset\"][\"pipeline\"][7][\"point_cloud_range\"] = point_cloud_range\n",
    "\n",
    "    return cfg\n",
    "\n",
    "\n",
    "def import_modules_load_config(cfg_file=\"beverse_tiny.py\", samples_per_gpu=1):\n",
    "    cfg_path = r\"/home/niklas/ETM_BEV/BEVerse/projects/configs\"\n",
    "    cfg_path = os.path.join(cfg_path, cfg_file)\n",
    "\n",
    "    cfg = Config.fromfile(cfg_path)\n",
    "\n",
    "    # if args.cfg_options is not None:\n",
    "    #     cfg.merge_from_dict(args.cfg_options)\n",
    "    # import modules from string list.\n",
    "    if cfg.get(\"custom_imports\", None):\n",
    "        from mmcv.utils import import_modules_from_strings\n",
    "\n",
    "        import_modules_from_strings(**cfg[\"custom_imports\"])\n",
    "\n",
    "    # import modules from plguin/xx, registry will be updated\n",
    "    if hasattr(cfg, \"plugin\"):\n",
    "        if cfg.plugin:\n",
    "            import importlib\n",
    "\n",
    "            if hasattr(cfg, \"plugin_dir\"):\n",
    "                plugin_dir = cfg.plugin_dir\n",
    "                _module_dir = os.path.dirname(plugin_dir)\n",
    "                _module_dir = _module_dir.split(\"/\")\n",
    "                _module_path = _module_dir[0]\n",
    "\n",
    "                for m in _module_dir[1:]:\n",
    "                    _module_path = _module_path + \".\" + m\n",
    "                print(_module_path)\n",
    "                plg_lib = importlib.import_module(_module_path)\n",
    "            else:\n",
    "                # import dir is the dirpath for the config file\n",
    "                _module_dir = cfg_path\n",
    "                _module_dir = _module_dir.split(\"/\")\n",
    "                _module_path = _module_dir[0]\n",
    "                for m in _module_dir[1:]:\n",
    "                    _module_path = _module_path + \".\" + m\n",
    "                print(_module_path)\n",
    "                plg_lib = importlib.import_module(_module_path)\n",
    "\n",
    "    samples_per_gpu = 1\n",
    "    if isinstance(cfg.data.test, dict):\n",
    "        cfg.data.test.test_mode = True\n",
    "        samples_per_gpu = cfg.data.test.pop(\"samples_per_gpu\", 1)\n",
    "        if samples_per_gpu > 1:\n",
    "            # Replace 'ImageToTensor' to 'DefaultFormatBundle'\n",
    "            cfg.data.test.pipeline = replace_ImageToTensor(\n",
    "                cfg.data.test.pipeline)\n",
    "    elif isinstance(cfg.data.test, list):\n",
    "        for ds_cfg in cfg.data.test:\n",
    "            ds_cfg.test_mode = True\n",
    "        samples_per_gpu = max(\n",
    "            [ds_cfg.pop(\"samples_per_gpu\", 1) for ds_cfg in cfg.data.test]\n",
    "        )\n",
    "        if samples_per_gpu > 1:\n",
    "            for ds_cfg in cfg.data.test:\n",
    "                ds_cfg.pipeline = replace_ImageToTensor(ds_cfg.pipeline)\n",
    "\n",
    "    return cfg\n",
    "\n",
    "\n",
    "@torch.no_grad()\n",
    "def measure_time_host(\n",
    "    model: nn.Module,\n",
    "    input_tensor: torch.Tensor,\n",
    "    num_repeats: int = 100,\n",
    "    num_warmups: int = 10,\n",
    "    synchronize: bool = True,\n",
    "    continuous_measure: bool = True,\n",
    ") -> float:\n",
    "\n",
    "    for _ in range(num_warmups):\n",
    "        _ = model.forward(input_tensor)\n",
    "    torch.cuda.synchronize()\n",
    "\n",
    "    elapsed_time_ms = 0\n",
    "\n",
    "    if continuous_measure:\n",
    "        start = timer()\n",
    "        for _ in range(num_repeats):\n",
    "            _ = model.forward(input_tensor)\n",
    "        if synchronize:\n",
    "            torch.cuda.synchronize()\n",
    "        end = timer()\n",
    "        elapsed_time_ms = (end - start) * 1000\n",
    "\n",
    "    else:\n",
    "        for _ in range(num_repeats):\n",
    "            start = timer()\n",
    "            _ = model.forward(input_tensor)\n",
    "            if synchronize:\n",
    "                torch.cuda.synchronize()\n",
    "            end = timer()\n",
    "            elapsed_time_ms += (end - start) * 1000\n",
    "\n",
    "    return elapsed_time_ms / num_repeats\n",
    "\n",
    "\n",
    "@torch.no_grad()\n",
    "def measure_time_device(\n",
    "    model: nn.Module,\n",
    "    input_tensor: torch.Tensor,\n",
    "    num_repeats: int = 100,\n",
    "    num_warmups: int = 10,\n",
    "    synchronize: bool = True,\n",
    "    continuous_measure: bool = True,\n",
    ") -> float:\n",
    "\n",
    "    for _ in range(num_warmups):\n",
    "        _ = model.forward(input_tensor)\n",
    "    torch.cuda.synchronize()\n",
    "\n",
    "    elapsed_time_ms = 0\n",
    "\n",
    "    if continuous_measure:\n",
    "        start_event = torch.cuda.Event(enable_timing=True)\n",
    "        end_event = torch.cuda.Event(enable_timing=True)\n",
    "        start_event.record()\n",
    "        for _ in range(num_repeats):\n",
    "            _ = model.forward(input_tensor)\n",
    "        end_event.record()\n",
    "        if synchronize:\n",
    "            # This has to be synchronized to compute the elapsed time.\n",
    "            # Otherwise, there will be runtime error.\n",
    "            torch.cuda.synchronize()\n",
    "        elapsed_time_ms = start_event.elapsed_time(end_event)\n",
    "\n",
    "    else:\n",
    "        for _ in range(num_repeats):\n",
    "            start_event = torch.cuda.Event(enable_timing=True)\n",
    "            end_event = torch.cuda.Event(enable_timing=True)\n",
    "            start_event.record()\n",
    "            _ = model.forward(input_tensor)\n",
    "            end_event.record()\n",
    "            if synchronize:\n",
    "                # This has to be synchronized to compute the elapsed time.\n",
    "                # Otherwise, there will be runtime error.\n",
    "                torch.cuda.synchronize()\n",
    "            elapsed_time_ms += start_event.elapsed_time(end_event)\n",
    "\n",
    "    return elapsed_time_ms / num_repeats\n",
    "\n",
    "\n",
    "@torch.no_grad()\n",
    "def run_inference(model: nn.Module, input_tensor: torch.Tensor) -> torch.Tensor:\n",
    "    # from model.forward because BEVerse differentiates between different input types - img lidar etc\n",
    "    return model.forward_dummy()\n",
    "\n",
    "\n",
    "def calculate_birds_eye_view_parameters(x_bounds, y_bounds, z_bounds):\n",
    "    \"\"\"\n",
    "    Parameters\n",
    "    ----------\n",
    "        x_bounds: Forward direction in the ego-car.\n",
    "        y_bounds: Sides\n",
    "        z_bounds: Height\n",
    "\n",
    "    Returns\n",
    "    -------\n",
    "        bev_resolution: Bird's-eye view bev_resolution\n",
    "        bev_start_position Bird's-eye view first element\n",
    "        bev_dimension Bird's-eye view tensor spatial dimension\n",
    "    \"\"\"\n",
    "    bev_resolution = torch.tensor(\n",
    "        [row[2] for row in [x_bounds, y_bounds, z_bounds]])\n",
    "    bev_start_position = torch.tensor(\n",
    "        [row[0] + row[2] / 2.0 for row in [x_bounds, y_bounds, z_bounds]]\n",
    "    )\n",
    "    bev_dimension = torch.tensor(\n",
    "        [(row[1] - row[0]) / row[2] for row in [x_bounds, y_bounds, z_bounds]],\n",
    "        dtype=torch.long,\n",
    "    )\n",
    "\n",
    "    return bev_resolution, bev_start_position, bev_dimension\n"
   ]
  },
  {
   "cell_type": "code",
   "execution_count": null,
   "metadata": {},
   "outputs": [],
   "source": [
    "cfg = import_modules_load_config(cfg_file=\"motion_detr_tiny.py\")\n",
    "dataset = build_dataset(cfg.data.test)  # build_dataset(cfg.data.train)\n",
    "data_loaders = [build_dataloader(\n",
    "    dataset,\n",
    "    samples_per_gpu=1,\n",
    "    workers_per_gpu=cfg.data.workers_per_gpu,\n",
    "    dist=False,\n",
    "    shuffle=False)]\n",
    "\n",
    "sample = next(iter(data_loaders[0]))\n",
    "\n",
    "model = build_model(cfg.model, train_cfg=cfg.get('train_cfg'),\n",
    "                    test_cfg=cfg.get('test_cfg'))\n",
    "\n",
    "cfg.checkpoint_config.meta = dict(\n",
    "    mmdet_version=mmdet_version,\n",
    "    mmseg_version=mmseg_version,\n",
    "    mmdet3d_version=mmdet3d_version,\n",
    "    config=cfg.pretty_text,\n",
    "    CLASSES=dataset.CLASSES,\n",
    "    PALETTE=dataset.PALETTE  # for segmentors\n",
    "    if hasattr(dataset, 'PALETTE') else None)\n",
    "\n",
    "weights_tiny = torch.load(\n",
    "    \"/home/niklas/ETM_BEV/BEVerse/logs_cluster/epoch_5.pth\")#['state_dict']\n",
    "\n",
    "model.load_state_dict(weights_tiny)\n",
    "model.cuda()\n",
    "model = MMDataParallel(model, device_ids=[0])\n",
    "\n",
    "cfg.work_dir = \"./\"\n",
    "meta = dict()\n",
    "# log env info\n",
    "env_info_dict = collect_env()\n",
    "env_info = '\\n'.join([(f'{k}: {v}') for k, v in env_info_dict.items()])\n",
    "dash_line = '-' * 60 + '\\n'\n",
    "logger.info('Environment info:\\n' + dash_line + env_info + '\\n' +\n",
    "            dash_line)\n",
    "meta['env_info'] = env_info\n",
    "meta['config'] = cfg.pretty_text\n",
    "meta['seed'] = 1337\n",
    "meta['exp_name'] = \"testname\"\n",
    "\n",
    "optimizer = build_optimizer(model, cfg.optimizer)\n",
    "\n",
    "cfg.runner = {\n",
    "    'type': 'EpochBasedRunner',\n",
    "    'max_epochs': 1\n",
    "}\n",
    "\n",
    "runner = build_runner(\n",
    "    cfg.runner,\n",
    "    default_args=dict(\n",
    "        model=model,\n",
    "        optimizer=optimizer,\n",
    "        work_dir=cfg.work_dir,\n",
    "        logger=logger,\n",
    "        meta=meta))\n",
    "\n",
    "with torch.no_grad():\n",
    "    runner.run(data_loaders, cfg.workflow)\n",
    "\n",
    "\n",
    "\n",
    "\n"
   ]
  }
 ],
 "metadata": {
  "kernelspec": {
   "display_name": "Python 3.8.10 ('venv': venv)",
   "language": "python",
   "name": "python3"
  },
  "language_info": {
   "codemirror_mode": {
    "name": "ipython",
    "version": 3
   },
   "file_extension": ".py",
   "mimetype": "text/x-python",
   "name": "python",
   "nbconvert_exporter": "python",
   "pygments_lexer": "ipython3",
   "version": "3.8.10"
  },
  "orig_nbformat": 4,
  "vscode": {
   "interpreter": {
    "hash": "49a6cb26e152f15aca94d1d3fa9630fb57fb8fd83a336982cd2ebf9e9635e69c"
   }
  }
 },
 "nbformat": 4,
 "nbformat_minor": 2
}
