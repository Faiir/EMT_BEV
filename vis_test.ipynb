{
 "cells": [
  {
   "cell_type": "code",
   "execution_count": 18,
   "metadata": {},
   "outputs": [
    {
     "name": "stdout",
     "output_type": "stream",
     "text": [
      "projects.mmdet3d_plugin\n"
     ]
    }
   ],
   "source": [
    "from mmdet.datasets import (build_dataloader, build_dataset,\n",
    "                            replace_ImageToTensor)\n",
    "\n",
    "import numpy as np \n",
    "import matplotlib.pyplot as plt \n",
    "from mmcv import Config\n",
    "\n",
    "ignore_index = 255\n",
    "\n",
    "import torch \n",
    "\n",
    "\n",
    "INSTANCE_COLOURS = np.asarray([\n",
    "    [0, 0, 0],\n",
    "    [255, 179, 0],\n",
    "    [128, 62, 117],\n",
    "    [255, 104, 0],\n",
    "    [166, 189, 215],\n",
    "    [193, 0, 32],\n",
    "    [206, 162, 98],\n",
    "    [129, 112, 102],\n",
    "    [0, 125, 52],\n",
    "    [246, 118, 142],\n",
    "    [0, 83, 138],\n",
    "    [255, 122, 92],\n",
    "    [83, 55, 122],\n",
    "    [255, 142, 0],\n",
    "    [179, 40, 81],\n",
    "    [244, 200, 0],\n",
    "    [127, 24, 13],\n",
    "    [147, 170, 0],\n",
    "    [89, 51, 21],\n",
    "    [241, 58, 19],\n",
    "    [35, 44, 22],\n",
    "    [112, 224, 255],\n",
    "    [70, 184, 160],\n",
    "    [153, 0, 255],\n",
    "    [71, 255, 0],\n",
    "    [255, 0, 163],\n",
    "    [255, 204, 0],\n",
    "    [0, 255, 235],\n",
    "    [255, 0, 235],\n",
    "    [255, 0, 122],\n",
    "    [255, 245, 0],\n",
    "    [10, 190, 212],\n",
    "    [214, 255, 0],\n",
    "    [0, 204, 255],\n",
    "    [20, 0, 255],\n",
    "    [255, 255, 0],\n",
    "    [0, 153, 255],\n",
    "    [0, 255, 204],\n",
    "    [41, 255, 0],\n",
    "    [173, 0, 255],\n",
    "    [0, 245, 255],\n",
    "    [71, 0, 255],\n",
    "    [0, 255, 184],\n",
    "    [0, 92, 255],\n",
    "    [184, 255, 0],\n",
    "    [255, 214, 0],\n",
    "    [25, 194, 194],\n",
    "    [92, 0, 255],\n",
    "    [220, 220, 220],\n",
    "    [255, 9, 92],\n",
    "    [112, 9, 255],\n",
    "    [8, 255, 214],\n",
    "    [255, 184, 6],\n",
    "    [10, 255, 71],\n",
    "    [255, 41, 10],\n",
    "    [7, 255, 255],\n",
    "    [224, 255, 8],\n",
    "    [102, 8, 255],\n",
    "    [255, 61, 6],\n",
    "    [255, 194, 7],\n",
    "    [0, 255, 20],\n",
    "    [255, 8, 41],\n",
    "    [255, 5, 153],\n",
    "    [6, 51, 255],\n",
    "    [235, 12, 255],\n",
    "    [160, 150, 20],\n",
    "    [0, 163, 255],\n",
    "    [140, 140, 140],\n",
    "    [250, 10, 15],\n",
    "    [20, 255, 0],\n",
    "])\n",
    "\n",
    "\n",
    "def generate_instance_colours(instance_map):\n",
    "    # Most distinct 22 colors (kelly colors from https://stackoverflow.com/questions/470690/how-to-automatically-generate\n",
    "    # -n-distinct-colors)\n",
    "    # plus some colours from AD40k\n",
    "\n",
    "    return {instance_id: INSTANCE_COLOURS[global_instance_id % len(INSTANCE_COLOURS)] for\n",
    "            instance_id, global_instance_id in instance_map.items()\n",
    "            }\n",
    "\n",
    "def plot_instance_map(instance_image, instance_map, instance_colours=None, bg_image=None):\n",
    "    if isinstance(instance_image, torch.Tensor):\n",
    "        instance_image = instance_image.cpu().numpy()\n",
    "    assert isinstance(instance_image, np.ndarray)\n",
    "    if instance_colours is None:\n",
    "        instance_colours = generate_instance_colours(instance_map)\n",
    "    if len(instance_image.shape) > 2:\n",
    "        instance_image = instance_image.reshape(\n",
    "            (instance_image.shape[-2], instance_image.shape[-1]))\n",
    "\n",
    "    # white background + colorful objects\n",
    "    if bg_image is None:\n",
    "        plot_image = 255 * \\\n",
    "            np.ones(\n",
    "                (instance_image.shape[0], instance_image.shape[1], 3), dtype=np.uint8)\n",
    "    else:\n",
    "        plot_image = bg_image\n",
    "\n",
    "    for key, value in instance_colours.items():\n",
    "        plot_image[instance_image == key] = value\n",
    "\n",
    "    return plot_image\n",
    "\n",
    "\n",
    "\n",
    "from projects.mmdet3d_plugin.datasets.utils.warper import FeatureWarper\n",
    "import os\n",
    "\n",
    "\n",
    "def import_modules_load_config(cfg_file=\"beverse_tiny.py\", samples_per_gpu=1):\n",
    "    cfg_path = r\"/home/niklas/ETM_BEV/BEVerse/projects/configs\"\n",
    "    cfg_path = os.path.join(cfg_path, cfg_file)\n",
    "\n",
    "    cfg = Config.fromfile(cfg_path)\n",
    "\n",
    "    # if args.cfg_options is not None:\n",
    "    #     cfg.merge_from_dict(args.cfg_options)\n",
    "    # import modules from string list.\n",
    "    if cfg.get(\"custom_imports\", None):\n",
    "        from mmcv.utils import import_modules_from_strings\n",
    "\n",
    "        import_modules_from_strings(**cfg[\"custom_imports\"])\n",
    "\n",
    "    # import modules from plguin/xx, registry will be updated\n",
    "    if hasattr(cfg, \"plugin\"):\n",
    "        if cfg.plugin:\n",
    "            import importlib\n",
    "\n",
    "            if hasattr(cfg, \"plugin_dir\"):\n",
    "                plugin_dir = cfg.plugin_dir\n",
    "                _module_dir = os.path.dirname(plugin_dir)\n",
    "                _module_dir = _module_dir.split(\"/\")\n",
    "                _module_path = _module_dir[0]\n",
    "\n",
    "                for m in _module_dir[1:]:\n",
    "                    _module_path = _module_path + \".\" + m\n",
    "                print(_module_path)\n",
    "                plg_lib = importlib.import_module(_module_path)\n",
    "            else:\n",
    "                # import dir is the dirpath for the config file\n",
    "                _module_dir = cfg_path\n",
    "                _module_dir = _module_dir.split(\"/\")\n",
    "                _module_path = _module_dir[0]\n",
    "                for m in _module_dir[1:]:\n",
    "                    _module_path = _module_path + \".\" + m\n",
    "                print(_module_path)\n",
    "                plg_lib = importlib.import_module(_module_path)\n",
    "\n",
    "    samples_per_gpu = 1\n",
    "    if isinstance(cfg.data.test, dict):\n",
    "        cfg.data.test.test_mode = True\n",
    "        samples_per_gpu = cfg.data.test.pop(\"samples_per_gpu\", 1)\n",
    "        if samples_per_gpu > 1:\n",
    "            # Replace 'ImageToTensor' to 'DefaultFormatBundle'\n",
    "            cfg.data.test.pipeline = replace_ImageToTensor(\n",
    "                cfg.data.test.pipeline)\n",
    "    elif isinstance(cfg.data.test, list):\n",
    "        for ds_cfg in cfg.data.test:\n",
    "            ds_cfg.test_mode = True\n",
    "        samples_per_gpu = max(\n",
    "            [ds_cfg.pop(\"samples_per_gpu\", 1) for ds_cfg in cfg.data.test]\n",
    "        )\n",
    "        if samples_per_gpu > 1:\n",
    "            for ds_cfg in cfg.data.test:\n",
    "                ds_cfg.pipeline = replace_ImageToTensor(ds_cfg.pipeline)\n",
    "\n",
    "    return cfg\n",
    "\n",
    "\n",
    "torch.backends.cudnn.benchmark = True\n",
    "\n",
    "cfg = import_modules_load_config(\n",
    "    cfg_file=r\"beverse_tiny_org.py\")\n",
    "\n",
    "dataset = build_dataset(cfg.data.test)\n",
    "data_loader = build_dataloader(\n",
    "    dataset,\n",
    "    samples_per_gpu=2,\n",
    "    workers_per_gpu=cfg.data.workers_per_gpu,\n",
    "    dist=False,\n",
    "    shuffle=False)\n",
    "\n",
    "\n",
    "grid_conf = {\n",
    "    \"xbound\": [-50.0, 50.0, 0.5],\n",
    "    \"ybound\": [-50.0, 50.0, 0.5],\n",
    "    \"zbound\": [-10.0, 10.0, 20.0],\n",
    "    \"dbound\": [1.0, 60.0, 1.0],\n",
    "}\n",
    "\n",
    "warper = FeatureWarper(grid_conf=grid_conf)\n",
    "\n",
    "\n"
   ]
  },
  {
   "cell_type": "code",
   "execution_count": 19,
   "metadata": {},
   "outputs": [],
   "source": [
    "iter_loader =iter(data_loader)\n"
   ]
  },
  {
   "cell_type": "code",
   "execution_count": 66,
   "metadata": {},
   "outputs": [],
   "source": []
  },
  {
   "cell_type": "code",
   "execution_count": 36,
   "metadata": {},
   "outputs": [
    {
     "data": {
      "text/plain": [
       "torch.Size([4, 200, 200])"
      ]
     },
     "execution_count": 36,
     "metadata": {},
     "output_type": "execute_result"
    }
   ],
   "source": [
    "temporal_instances.shape"
   ]
  },
  {
   "cell_type": "code",
   "execution_count": 40,
   "metadata": {},
   "outputs": [
    {
     "data": {
      "text/plain": [
       "torch.Size([200, 200])"
      ]
     },
     "execution_count": 40,
     "metadata": {},
     "output_type": "execute_result"
    }
   ],
   "source": []
  },
  {
   "cell_type": "code",
   "execution_count": 45,
   "metadata": {},
   "outputs": [],
   "source": [
    "values, counts = np.unique(torch.squeeze(\n",
    "    temporal_instances[0]).numpy(), return_counts=True)\n",
    "\n",
    "max_ind = np.argmax(counts)"
   ]
  },
  {
   "cell_type": "code",
   "execution_count": 48,
   "metadata": {},
   "outputs": [
    {
     "name": "stdout",
     "output_type": "stream",
     "text": [
      "0\n",
      "[ 0 29]\n"
     ]
    }
   ],
   "source": [
    "print(max_ind)\n",
    "\n",
    "ind = np.argpartition(-counts, kth=2)[:2]\n",
    "print(values[ind])  # prints the 10 most frequent elements\n"
   ]
  },
  {
   "cell_type": "code",
   "execution_count": 56,
   "metadata": {},
   "outputs": [],
   "source": [
    "sample = next(iter_loader)\n"
   ]
  },
  {
   "cell_type": "code",
   "execution_count": 4,
   "metadata": {},
   "outputs": [],
   "source": [
    "gt_instances = sample[\"motion_instance\"][0]"
   ]
  },
  {
   "cell_type": "code",
   "execution_count": 14,
   "metadata": {},
   "outputs": [],
   "source": [
    "segmentation_labels = sample[\"motion_segmentation\"][0]"
   ]
  },
  {
   "cell_type": "code",
   "execution_count": 15,
   "metadata": {},
   "outputs": [
    {
     "data": {
      "text/plain": [
       "torch.Size([1, 4, 200, 200])"
      ]
     },
     "execution_count": 15,
     "metadata": {},
     "output_type": "execute_result"
    }
   ],
   "source": [
    "segmentation_labels.shape"
   ]
  },
  {
   "cell_type": "code",
   "execution_count": 16,
   "metadata": {},
   "outputs": [
    {
     "data": {
      "text/plain": [
       "tensor([0, 1])"
      ]
     },
     "execution_count": 16,
     "metadata": {},
     "output_type": "execute_result"
    }
   ],
   "source": [
    "segmentation_labels.unique()"
   ]
  },
  {
   "cell_type": "code",
   "execution_count": 11,
   "metadata": {},
   "outputs": [
    {
     "data": {
      "text/plain": [
       "torch.Size([4, 200, 200])"
      ]
     },
     "execution_count": 11,
     "metadata": {},
     "output_type": "execute_result"
    }
   ],
   "source": [
    "gt_instances = gt_instances.squeeze()\n",
    "gt_instances.shape"
   ]
  },
  {
   "cell_type": "code",
   "execution_count": 13,
   "metadata": {},
   "outputs": [
    {
     "data": {
      "text/plain": [
       "tensor([ 0,  1,  2,  3,  4,  5,  6,  7,  8,  9, 10, 11, 12, 13, 14, 15, 16, 17,\n",
       "        18, 19, 20, 21])"
      ]
     },
     "execution_count": 13,
     "metadata": {},
     "output_type": "execute_result"
    }
   ],
   "source": [
    "gt_instances.unique()"
   ]
  },
  {
   "cell_type": "code",
   "execution_count": 12,
   "metadata": {},
   "outputs": [
    {
     "name": "stdout",
     "output_type": "stream",
     "text": [
      "tensor([ 0,  1,  2,  3,  4,  5,  6,  7,  8,  9, 10, 11, 12, 13])\n",
      "tensor([ 0,  1,  2,  3,  4,  5,  6,  7,  8,  9, 10, 11, 12, 13, 14, 15, 16, 17,\n",
      "        18])\n",
      "tensor([ 0,  1,  3,  4,  5,  6,  7,  8, 10, 11, 12, 13, 14, 15, 16, 17, 18, 19,\n",
      "        20])\n",
      "tensor([ 0,  1,  4,  5,  7, 10, 11, 12, 13, 14, 15, 16, 17, 18, 19, 20, 21])\n"
     ]
    }
   ],
   "source": [
    "for n in gt_instances:\n",
    "    print(n.unique())"
   ]
  },
  {
   "cell_type": "code",
   "execution_count": 72,
   "metadata": {},
   "outputs": [],
   "source": [
    "import math\n",
    "import torch.nn.functional as F \n",
    "\n",
    "\n",
    "class pseud_class:\n",
    "    def __init__(self) -> None:\n",
    "        \n",
    "        self.receptive_field = 4\n",
    "        self.warper = FeatureWarper(grid_conf=grid_conf)\n",
    "        \n",
    "    def prepare_targets(self, batch,bev_size = (200,200), mask_stride=2,match_stride=2):\n",
    "        segmentation_labels = batch[\"motion_segmentation\"][0]\n",
    "        gt_instance = batch[\"motion_instance\"][0]\n",
    "        future_egomotion = batch[\"future_egomotions\"][0]\n",
    "        batch_size = len(segmentation_labels)\n",
    "        labels = {}\n",
    "\n",
    "        bev_transform = batch.get(\"aug_transform\", None)\n",
    "        labels[\"img_is_valid\"] = batch.get(\"img_is_valid\", None)\n",
    "\n",
    "        if bev_transform is not None:\n",
    "            bev_transform = bev_transform.float()\n",
    "        #warping so all segmentation labels are inside the current BEV frame FIERY reports better convergence / performance if you do this \n",
    "        segmentation_labels = (\n",
    "            self.warper.cumulative_warp_features_reverse(\n",
    "                segmentation_labels.float().unsqueeze(2),\n",
    "                future_egomotion[:, (self.receptive_field - 1) :],\n",
    "                mode=\"nearest\",\n",
    "                bev_transform=bev_transform,\n",
    "            )\n",
    "            .long()\n",
    "            .contiguous()\n",
    "        ).squeeze().to(torch.float32)\n",
    "        #print(f\"Seg labels shape: {segmentation_labels.shape =}\")\n",
    "\n",
    "        \n",
    "        # Warp instance labels to present's reference frame\n",
    "        gt_instance = (\n",
    "            self.warper.cumulative_warp_features_reverse(\n",
    "                gt_instance.float().unsqueeze(2),\n",
    "                future_egomotion[:, (self.receptive_field - 1) :],\n",
    "                mode=\"nearest\",\n",
    "                bev_transform=bev_transform,\n",
    "            )\n",
    "            .long()\n",
    "            .contiguous()[:, :, 0]\n",
    "        )\n",
    "\n",
    "        o_h, o_w = bev_size\n",
    "        l_h, l_w = math.ceil(o_h/mask_stride), math.ceil(o_w/mask_stride)\n",
    "        m_h, m_w = math.ceil(o_h/match_stride), math.ceil(o_w/match_stride)\n",
    "        \n",
    "        gt_masks_for_loss  = F.interpolate(segmentation_labels, size=(l_h, l_w), mode=\"bilinear\", align_corners=False)\n",
    "        gt_masks_for_match = F.interpolate(segmentation_labels, size=(m_h, m_w), mode=\"bilinear\", align_corners=False)\n",
    "        \n",
    "        target_list = []\n",
    "        # Make it work for IFC Criterion with mask based classification & matching rather then boxwise \n",
    "        for b in range(batch_size):\n",
    "            ids = gt_instance[b].unique() # labels only continous for clip - this is much more of an tracking id as every class is a vehicle anyways # TODO make work with other types of superclasses other then vehicle\n",
    "            target_list.append({\"labels\": ids,\"masks\": gt_masks_for_loss[b], \"match_masks\": gt_masks_for_match[b], \"gt_motion_instance\":gt_instance[b] })\n",
    "        return target_list "
   ]
  },
  {
   "cell_type": "code",
   "execution_count": 31,
   "metadata": {},
   "outputs": [
    {
     "data": {
      "text/plain": [
       "2"
      ]
     },
     "execution_count": 31,
     "metadata": {},
     "output_type": "execute_result"
    }
   ],
   "source": [
    "len(sample[\"semantic_map\"][0])"
   ]
  },
  {
   "cell_type": "code",
   "execution_count": 37,
   "metadata": {},
   "outputs": [],
   "source": [
    "segmentation_labels = sample[\"motion_segmentation\"][0].to(torch.float32)\n",
    "\n",
    "o_h, o_w = (200,200)\n",
    "l_h, l_w = math.ceil(o_h/2), math.ceil(o_w/2)\n",
    "m_h, m_w = math.ceil(o_h/2), math.ceil(o_w/2)\n",
    "gt_masks_for_loss  = F.interpolate(segmentation_labels, size=(l_h, l_w), mode=\"bilinear\", align_corners=False)\n",
    "gt_masks_for_match = F.interpolate(segmentation_labels, size=(m_h, m_w), mode=\"bilinear\", align_corners=False)"
   ]
  },
  {
   "cell_type": "code",
   "execution_count": 38,
   "metadata": {},
   "outputs": [
    {
     "data": {
      "text/plain": [
       "torch.Size([2, 4, 100, 100])"
      ]
     },
     "execution_count": 38,
     "metadata": {},
     "output_type": "execute_result"
    }
   ],
   "source": [
    "gt_masks_for_loss.shape"
   ]
  },
  {
   "cell_type": "code",
   "execution_count": 73,
   "metadata": {},
   "outputs": [],
   "source": [
    "p = pseud_class()\n",
    "target_list = p.prepare_targets(sample)"
   ]
  },
  {
   "cell_type": "code",
   "execution_count": 52,
   "metadata": {},
   "outputs": [
    {
     "data": {
      "text/plain": [
       "1"
      ]
     },
     "execution_count": 52,
     "metadata": {},
     "output_type": "execute_result"
    }
   ],
   "source": [
    "len(target_list)"
   ]
  },
  {
   "cell_type": "code",
   "execution_count": 70,
   "metadata": {},
   "outputs": [
    {
     "data": {
      "text/plain": [
       "25"
      ]
     },
     "execution_count": 70,
     "metadata": {},
     "output_type": "execute_result"
    }
   ],
   "source": [
    "len(sample[\"motion_instance\"][0][1].unique())"
   ]
  },
  {
   "cell_type": "code",
   "execution_count": 74,
   "metadata": {},
   "outputs": [
    {
     "name": "stdout",
     "output_type": "stream",
     "text": [
      "labels\n",
      "torch.Size([27])\n",
      "masks\n",
      "torch.Size([4, 100, 100])\n",
      "match_masks\n",
      "torch.Size([4, 100, 100])\n",
      "gt_motion_instance\n",
      "torch.Size([4, 200, 200])\n",
      "labels\n",
      "torch.Size([25])\n",
      "masks\n",
      "torch.Size([4, 100, 100])\n",
      "match_masks\n",
      "torch.Size([4, 100, 100])\n",
      "gt_motion_instance\n",
      "torch.Size([4, 200, 200])\n"
     ]
    }
   ],
   "source": [
    "for tl in target_list:\n",
    "    for k in tl:\n",
    "        print(k)\n",
    "        print(tl[k].shape)\n",
    "    "
   ]
  },
  {
   "cell_type": "code",
   "execution_count": null,
   "metadata": {},
   "outputs": [],
   "source": []
  },
  {
   "cell_type": "code",
   "execution_count": 124,
   "metadata": {},
   "outputs": [
    {
     "name": "stdout",
     "output_type": "stream",
     "text": [
      "[ 1  2  3  4  5  6  9 10 11 12 13 15 16 17 18 19 20 21 22 23 24 25 26 27\n",
      " 28 30 31 32 33 34 36]\n"
     ]
    },
    {
     "data": {
      "image/png": "[encoded data removed]",
      "text/plain": [
       "<Figure size 1800x400 with 1 Axes>"
      ]
     },
     "metadata": {},
     "output_type": "display_data"
    },
    {
     "data": {
      "image/png": "[encoded data removed]",
      "text/plain": [
       "<Figure size 640x480 with 1 Axes>"
      ]
     },
     "metadata": {},
     "output_type": "display_data"
    },
    {
     "data": {
      "image/png": "[encoded data removed]",
      "text/plain": [
       "<Figure size 640x480 with 1 Axes>"
      ]
     },
     "metadata": {},
     "output_type": "display_data"
    },
    {
     "data": {
      "image/png": "[encoded data removed]",
      "text/plain": [
       "<Figure size 640x480 with 1 Axes>"
      ]
     },
     "metadata": {},
     "output_type": "display_data"
    },
    {
     "data": {
      "image/png": "[encoded data removed]",
      "text/plain": [
       "<Figure size 1800x400 with 1 Axes>"
      ]
     },
     "metadata": {},
     "output_type": "display_data"
    },
    {
     "data": {
      "image/png": "[encoded data removed]",
      "text/plain": [
       "<Figure size 640x480 with 1 Axes>"
      ]
     },
     "metadata": {},
     "output_type": "display_data"
    },
    {
     "data": {
      "image/png": "[encoded data removed]",
      "text/plain": [
       "<Figure size 640x480 with 1 Axes>"
      ]
     },
     "metadata": {},
     "output_type": "display_data"
    },
    {
     "data": {
      "image/png": "[encoded data removed]",
      "text/plain": [
       "<Figure size 640x480 with 1 Axes>"
      ]
     },
     "metadata": {},
     "output_type": "display_data"
    }
   ],
   "source": [
    "\n",
    "gt_instances = sample[\"motion_instance\"][0]\n",
    "#print(f\"{gt_instance.shape = }\")\n",
    "future_egomotion = sample[\"future_egomotions\"][0]\n",
    "bev_transform = sample.get(\"aug_transform\", None)\n",
    "receptive_field = 4\n",
    "\n",
    "gt_instance = (\n",
    "    warper.cumulative_warp_features_reverse(\n",
    "        gt_instances.float().unsqueeze(2),\n",
    "        future_egomotion[:, (receptive_field - 1):],\n",
    "        mode=\"nearest\",\n",
    "        bev_transform=bev_transform,\n",
    "    )\n",
    "    .long()\n",
    "    .contiguous()[:, :, 0]\n",
    ")\n",
    "\n",
    "temporal_instances = gt_instance[0]\n",
    "num_frame = temporal_instances.shape[0]\n",
    "temporal_instances_real = gt_instance[0].clone()\n",
    "\n",
    "\n",
    "instance_ids = np.unique(temporal_instances_real)[1:]\n",
    "instance_ids = instance_ids[instance_ids != ignore_index]\n",
    "print(instance_ids)\n",
    "instance_map = dict(zip(instance_ids, instance_ids))\n",
    "\n",
    "#num_frame = 1\n",
    "temporal_instances[temporal_instances != 5] = 0\n",
    "\n",
    "plt.figure(0, figsize=(18, 4))\n",
    "for i in range(num_frame):\n",
    "    color_instance_i = plot_instance_map(\n",
    "        temporal_instances[i], instance_map)\n",
    "    plt.subplot(1, num_frame, i + 1)\n",
    "    plt.imshow(color_instance_i)\n",
    "    plt.axis('off')\n",
    "    plt.show()\n",
    "plt.figure(0, figsize=(18, 4))\n",
    "for i in range(num_frame):\n",
    "    color_instance_i = plot_instance_map(\n",
    "        temporal_instances_real[i], instance_map)\n",
    "    plt.subplot(1, num_frame, i + 1)\n",
    "    plt.imshow(color_instance_i)\n",
    "    plt.axis('off')\n",
    "\n",
    "    # plt.savefig(\n",
    "    #     f'{\"/home/niklas/ETM_BEV/BEVerse/viz\"}/temporal_instanceswarped_{i}.png')\n",
    "    plt.show()\n"
   ]
  },
  {
   "cell_type": "code",
   "execution_count": 125,
   "metadata": {},
   "outputs": [],
   "source": [
    "sample = next(iter_loader)\n"
   ]
  },
  {
   "cell_type": "code",
   "execution_count": 127,
   "metadata": {},
   "outputs": [
    {
     "name": "stdout",
     "output_type": "stream",
     "text": [
      "[ 1  2  3  6  7  8  9 10 11 12 13 14 15 16 17 18 19 20 21 22 23 24 25 26\n",
      " 27 28 29 30 32 34 35]\n"
     ]
    },
    {
     "data": {
      "image/png": "[encoded data removed]",
      "text/plain": [
       "<Figure size 1800x400 with 1 Axes>"
      ]
     },
     "metadata": {},
     "output_type": "display_data"
    },
    {
     "data": {
      "image/png": "[encoded data removed]",
      "text/plain": [
       "<Figure size 640x480 with 1 Axes>"
      ]
     },
     "metadata": {},
     "output_type": "display_data"
    },
    {
     "data": {
      "image/png": "[encoded data removed]",
      "text/plain": [
       "<Figure size 640x480 with 1 Axes>"
      ]
     },
     "metadata": {},
     "output_type": "display_data"
    },
    {
     "data": {
      "image/png": "[encoded data removed]",
      "text/plain": [
       "<Figure size 640x480 with 1 Axes>"
      ]
     },
     "metadata": {},
     "output_type": "display_data"
    },
    {
     "data": {
      "image/png": "[encoded data removed]",
      "text/plain": [
       "<Figure size 1800x400 with 1 Axes>"
      ]
     },
     "metadata": {},
     "output_type": "display_data"
    },
    {
     "data": {
      "image/png": "[encoded data removed]",
      "text/plain": [
       "<Figure size 640x480 with 1 Axes>"
      ]
     },
     "metadata": {},
     "output_type": "display_data"
    },
    {
     "data": {
      "image/png": "[encoded data removed]",
      "text/plain": [
       "<Figure size 640x480 with 1 Axes>"
      ]
     },
     "metadata": {},
     "output_type": "display_data"
    },
    {
     "data": {
      "image/png": "[encoded data removed]",
      "text/plain": [
       "<Figure size 640x480 with 1 Axes>"
      ]
     },
     "metadata": {},
     "output_type": "display_data"
    }
   ],
   "source": [
    "sample = next(iter_loader)\n",
    "gt_instances = sample[\"motion_instance\"][0]\n",
    "#print(f\"{gt_instance.shape = }\")\n",
    "future_egomotion = sample[\"future_egomotions\"][0]\n",
    "bev_transform = sample.get(\"aug_transform\", None)\n",
    "receptive_field = 4\n",
    "\n",
    "gt_instance = (\n",
    "    warper.cumulative_warp_features_reverse(\n",
    "        gt_instances.float().unsqueeze(2),\n",
    "        future_egomotion[:, (receptive_field - 1):],\n",
    "        mode=\"nearest\",\n",
    "        bev_transform=bev_transform,\n",
    "    )\n",
    "    .long()\n",
    "    .contiguous()[:, :, 0]\n",
    ")\n",
    "\n",
    "temporal_instances = gt_instance[0]\n",
    "num_frame = temporal_instances.shape[0]\n",
    "temporal_instances_real = gt_instance[0].clone()\n",
    "\n",
    "\n",
    "instance_ids = np.unique(temporal_instances_real)[1:]\n",
    "instance_ids = instance_ids[instance_ids != ignore_index]\n",
    "print(instance_ids)\n",
    "instance_map = dict(zip(instance_ids, instance_ids))\n",
    "\n",
    "#num_frame = 1\n",
    "temporal_instances[temporal_instances != 5] = 0\n",
    "\n",
    "plt.figure(0, figsize=(18, 4))\n",
    "for i in range(num_frame):\n",
    "    color_instance_i = plot_instance_map(\n",
    "        temporal_instances[i], instance_map)\n",
    "    plt.subplot(1, num_frame, i + 1)\n",
    "    plt.imshow(color_instance_i)\n",
    "    plt.axis('off')\n",
    "    plt.show()\n",
    "plt.figure(0, figsize=(18, 4))\n",
    "for i in range(num_frame):\n",
    "    color_instance_i = plot_instance_map(\n",
    "        temporal_instances_real[i], instance_map)\n",
    "    plt.subplot(1, num_frame, i + 1)\n",
    "    plt.imshow(color_instance_i)\n",
    "    plt.axis('off')\n",
    "\n",
    "    # plt.savefig(\n",
    "    #     f'{\"/home/niklas/ETM_BEV/BEVerse/viz\"}/temporal_instanceswarped_{i}.png')\n",
    "    plt.show()\n"
   ]
  },
  {
   "cell_type": "code",
   "execution_count": 85,
   "metadata": {},
   "outputs": [
    {
     "data": {
      "text/plain": [
       "dict_keys(['img_metas', 'img_inputs', 'semantic_indices', 'semantic_map', 'future_egomotions', 'gt_bboxes_3d', 'gt_labels_3d', 'motion_segmentation', 'motion_instance', 'instance_centerness', 'instance_offset', 'instance_flow', 'has_invalid_frame', 'img_is_valid'])"
      ]
     },
     "execution_count": 85,
     "metadata": {},
     "output_type": "execute_result"
    }
   ],
   "source": [
    "sample.keys()"
   ]
  },
  {
   "cell_type": "code",
   "execution_count": 9,
   "metadata": {},
   "outputs": [
    {
     "name": "stdout",
     "output_type": "stream",
     "text": [
      "1\n"
     ]
    }
   ],
   "source": [
    "temporal_instances = sample['motion_instance'][0]\n",
    "num_frame = temporal_instances.shape[0]\n"
   ]
  },
  {
   "cell_type": "code",
   "execution_count": 19,
   "metadata": {},
   "outputs": [
    {
     "data": {
      "text/plain": [
       "torch.Size([1, 4, 200, 200])"
      ]
     },
     "execution_count": 19,
     "metadata": {},
     "output_type": "execute_result"
    }
   ],
   "source": [
    "temporal_instances.shape"
   ]
  },
  {
   "cell_type": "code",
   "execution_count": 10,
   "metadata": {},
   "outputs": [],
   "source": [
    "instance_ids = np.unique(temporal_instances)[1:]\n"
   ]
  },
  {
   "cell_type": "code",
   "execution_count": 11,
   "metadata": {},
   "outputs": [
    {
     "data": {
      "text/plain": [
       "array([ 1,  2,  3,  4,  5,  6,  7,  8,  9, 10, 11, 12, 13, 14, 15, 16, 17,\n",
       "       18, 19, 20, 21])"
      ]
     },
     "execution_count": 11,
     "metadata": {},
     "output_type": "execute_result"
    }
   ],
   "source": [
    "instance_ids\n"
   ]
  },
  {
   "cell_type": "code",
   "execution_count": 13,
   "metadata": {},
   "outputs": [
    {
     "data": {
      "text/plain": [
       "array([ 1,  2,  3,  4,  5,  6,  7,  8,  9, 10, 11, 12, 13, 14, 15, 16, 17,\n",
       "       18, 19, 20, 21])"
      ]
     },
     "execution_count": 13,
     "metadata": {},
     "output_type": "execute_result"
    }
   ],
   "source": [
    "instance_ids = instance_ids[instance_ids != ignore_index]\n",
    "instance_ids\n"
   ]
  },
  {
   "cell_type": "code",
   "execution_count": 15,
   "metadata": {},
   "outputs": [
    {
     "data": {
      "text/plain": [
       "{1: 1,\n",
       " 2: 2,\n",
       " 3: 3,\n",
       " 4: 4,\n",
       " 5: 5,\n",
       " 6: 6,\n",
       " 7: 7,\n",
       " 8: 8,\n",
       " 9: 9,\n",
       " 10: 10,\n",
       " 11: 11,\n",
       " 12: 12,\n",
       " 13: 13,\n",
       " 14: 14,\n",
       " 15: 15,\n",
       " 16: 16,\n",
       " 17: 17,\n",
       " 18: 18,\n",
       " 19: 19,\n",
       " 20: 20,\n",
       " 21: 21}"
      ]
     },
     "execution_count": 15,
     "metadata": {},
     "output_type": "execute_result"
    }
   ],
   "source": [
    "instance_map = dict(zip(instance_ids, instance_ids))\n",
    "instance_map\n"
   ]
  },
  {
   "cell_type": "code",
   "execution_count": 20,
   "metadata": {},
   "outputs": [
    {
     "data": {
      "text/plain": [
       "torch.Size([4, 200, 200])"
      ]
     },
     "execution_count": 20,
     "metadata": {},
     "output_type": "execute_result"
    }
   ],
   "source": [
    "temporal_instances[0].shape"
   ]
  },
  {
   "cell_type": "code",
   "execution_count": 23,
   "metadata": {},
   "outputs": [
    {
     "data": {
      "text/plain": [
       "dict_keys(['img_metas', 'img_inputs', 'semantic_indices', 'semantic_map', 'future_egomotions', 'gt_bboxes_3d', 'gt_labels_3d', 'motion_segmentation', 'motion_instance', 'instance_centerness', 'instance_offset', 'instance_flow', 'has_invalid_frame', 'img_is_valid'])"
      ]
     },
     "execution_count": 23,
     "metadata": {},
     "output_type": "execute_result"
    }
   ],
   "source": [
    "sample.keys()\n"
   ]
  },
  {
   "cell_type": "code",
   "execution_count": 77,
   "metadata": {},
   "outputs": [
    {
     "data": {
      "text/plain": [
       "torch.Size([1, 4, 2, 200, 200])"
      ]
     },
     "execution_count": 77,
     "metadata": {},
     "output_type": "execute_result"
    }
   ],
   "source": [
    "sample[\"instance_flow\"][0].shape\n"
   ]
  },
  {
   "cell_type": "code",
   "execution_count": null,
   "metadata": {},
   "outputs": [],
   "source": []
  },
  {
   "cell_type": "code",
   "execution_count": 79,
   "metadata": {},
   "outputs": [],
   "source": [
    "out = sample[\"instance_flow\"][0].reshape(\n",
    "    (4, 2, sample[\"instance_flow\"][0].shape[-2], sample[\"instance_flow\"][0].shape[-1])).clone()\n"
   ]
  },
  {
   "cell_type": "code",
   "execution_count": 80,
   "metadata": {},
   "outputs": [
    {
     "data": {
      "text/plain": [
       "torch.Size([4, 2, 200, 200])"
      ]
     },
     "execution_count": 80,
     "metadata": {},
     "output_type": "execute_result"
    }
   ],
   "source": []
  },
  {
   "cell_type": "code",
   "execution_count": 81,
   "metadata": {},
   "outputs": [
    {
     "data": {
      "text/plain": [
       "array([  0.,   1.,   2.,   4., 255.], dtype=float32)"
      ]
     },
     "execution_count": 81,
     "metadata": {},
     "output_type": "execute_result"
    }
   ],
   "source": [
    "np.unique(out[0])[1:]\n"
   ]
  },
  {
   "cell_type": "code",
   "execution_count": 68,
   "metadata": {},
   "outputs": [],
   "source": [
    "int_out = out.to(torch.int16).numpy()"
   ]
  },
  {
   "cell_type": "code",
   "execution_count": 59,
   "metadata": {},
   "outputs": [
    {
     "data": {
      "text/plain": [
       "torch.Size([3, 200, 400])"
      ]
     },
     "execution_count": 59,
     "metadata": {},
     "output_type": "execute_result"
    }
   ],
   "source": [
    "out.shape"
   ]
  },
  {
   "cell_type": "code",
   "execution_count": 61,
   "metadata": {},
   "outputs": [
    {
     "data": {
      "text/plain": [
       "(3, 200, 400)"
      ]
     },
     "execution_count": 61,
     "metadata": {},
     "output_type": "execute_result"
    }
   ],
   "source": [
    "int_out.shape"
   ]
  },
  {
   "cell_type": "code",
   "execution_count": 69,
   "metadata": {},
   "outputs": [
    {
     "data": {
      "text/plain": [
       "array([0, 1, 2, 3, 4], dtype=int16)"
      ]
     },
     "execution_count": 69,
     "metadata": {},
     "output_type": "execute_result"
    }
   ],
   "source": [
    "c = 1\n",
    "for i in range(len(int_out)):\n",
    "    int_out[i] = int_out[i]*c\n",
    "    c +=1\n",
    "np.unique(int_out)"
   ]
  },
  {
   "cell_type": "code",
   "execution_count": 53,
   "metadata": {},
   "outputs": [
    {
     "data": {
      "text/plain": [
       "(2,)"
      ]
     },
     "execution_count": 53,
     "metadata": {},
     "output_type": "execute_result"
    }
   ],
   "source": [
    "int_out.shape"
   ]
  },
  {
   "cell_type": "code",
   "execution_count": 70,
   "metadata": {},
   "outputs": [
    {
     "data": {
      "image/png": "[encoded data removed]",
      "text/plain": [
       "<Figure size 1800x400 with 3 Axes>"
      ]
     },
     "metadata": {},
     "output_type": "display_data"
    }
   ],
   "source": [
    "plt.figure(0, figsize=(18, 4))\n",
    "for i in range(3):\n",
    "    plt.subplot(1, num_frame, i + 1)\n",
    "    plt.imshow(int_out[i])\n",
    "    plt.axis('off')\n"
   ]
  },
  {
   "cell_type": "code",
   "execution_count": 22,
   "metadata": {},
   "outputs": [],
   "source": [
    "temporal_instances = sample['motion_instance'][0][0]\n",
    "num_frame = temporal_instances.shape[0]\n",
    "\n",
    "instance_ids = np.unique(temporal_instances)[1:]\n",
    "instance_ids = instance_ids[instance_ids != ignore_index]\n",
    "instance_map = dict(zip(instance_ids, instance_ids))\n",
    "\n",
    "plt.figure(0, figsize=(18, 4))\n",
    "for i in range(num_frame):\n",
    "    color_instance_i = plot_instance_map(\n",
    "        temporal_instances[i], instance_map)\n",
    "    plt.subplot(1, num_frame, i + 1)\n",
    "    plt.imshow(color_instance_i)\n",
    "    plt.axis('off')\n",
    "\n",
    "plt.savefig(\n",
    "    '{}/temporal_instances.png'.format(r'/home/niklas/ETM_BEV/BEVerse/viz'))\n",
    "plt.close()\n"
   ]
  },
  {
   "cell_type": "code",
   "execution_count": 107,
   "metadata": {},
   "outputs": [],
   "source": [
    "\n"
   ]
  },
  {
   "cell_type": "code",
   "execution_count": 93,
   "metadata": {},
   "outputs": [
    {
     "data": {
      "text/plain": [
       "NoneType"
      ]
     },
     "execution_count": 93,
     "metadata": {},
     "output_type": "execute_result"
    }
   ],
   "source": [
    "type(bev_transform)\n"
   ]
  },
  {
   "cell_type": "code",
   "execution_count": 89,
   "metadata": {},
   "outputs": [
    {
     "data": {
      "text/plain": [
       "torch.Size([1, 4, 200, 200])"
      ]
     },
     "execution_count": 89,
     "metadata": {},
     "output_type": "execute_result"
    }
   ],
   "source": [
    "gt_instances.shape\n"
   ]
  },
  {
   "cell_type": "code",
   "execution_count": 88,
   "metadata": {},
   "outputs": [
    {
     "data": {
      "text/plain": [
       "torch.Size([1, 4, 1, 200, 200])"
      ]
     },
     "execution_count": 88,
     "metadata": {},
     "output_type": "execute_result"
    }
   ],
   "source": [
    "gt_instances.float().unsqueeze(2).shape\n"
   ]
  },
  {
   "cell_type": "code",
   "execution_count": 92,
   "metadata": {},
   "outputs": [
    {
     "data": {
      "text/plain": [
       "torch.Size([1, 4, 6])"
      ]
     },
     "execution_count": 92,
     "metadata": {},
     "output_type": "execute_result"
    }
   ],
   "source": [
    "future_egomotion[0][:, (receptive_field - 1):].shape\n"
   ]
  },
  {
   "cell_type": "code",
   "execution_count": 108,
   "metadata": {},
   "outputs": [],
   "source": [
    "\n"
   ]
  },
  {
   "cell_type": "code",
   "execution_count": 111,
   "metadata": {},
   "outputs": [],
   "source": [
    "temporal_instances = sample['motion_instance'][0][0]\n",
    "num_frame = temporal_instances.shape[0]\n",
    "\n",
    "instance_ids = np.unique(temporal_instances)[1:]\n",
    "instance_ids = instance_ids[instance_ids != ignore_index]\n",
    "instance_map = dict(zip(instance_ids, instance_ids))\n",
    "\n",
    "\n",
    "for i in range(num_frame):\n",
    "    plt.figure(0, figsize=(18, 4))\n",
    "    color_instance_i = plot_instance_map(\n",
    "        temporal_instances[i], instance_map)\n",
    "    #plt.subplot(1, num_frame, i + 1)\n",
    "    plt.imshow(color_instance_i)\n",
    "    plt.axis('off')\n",
    "    plt.savefig(\n",
    "        f'/home/niklas/ETM_BEV/BEVerse/viz/temporal_instances_not_warped_{i}.png')\n",
    "    plt.close()\n"
   ]
  },
  {
   "cell_type": "code",
   "execution_count": 101,
   "metadata": {},
   "outputs": [
    {
     "data": {
      "text/plain": [
       "torch.Size([1, 4, 200, 200])"
      ]
     },
     "execution_count": 101,
     "metadata": {},
     "output_type": "execute_result"
    }
   ],
   "source": [
    "temporal_instances.shape"
   ]
  },
  {
   "cell_type": "code",
   "execution_count": 102,
   "metadata": {},
   "outputs": [
    {
     "data": {
      "text/plain": [
       "torch.Size([1, 4, 200, 200])"
      ]
     },
     "execution_count": 102,
     "metadata": {},
     "output_type": "execute_result"
    }
   ],
   "source": [
    "gt_instance.shape"
   ]
  },
  {
   "cell_type": "code",
   "execution_count": 103,
   "metadata": {},
   "outputs": [
    {
     "data": {
      "text/plain": [
       "1"
      ]
     },
     "execution_count": 103,
     "metadata": {},
     "output_type": "execute_result"
    }
   ],
   "source": [
    "\n"
   ]
  },
  {
   "cell_type": "code",
   "execution_count": 110,
   "metadata": {},
   "outputs": [],
   "source": []
  }
 ],
 "metadata": {
  "kernelspec": {
   "display_name": "Python 3.8.10 ('venv': venv)",
   "language": "python",
   "name": "python3"
  },
  "language_info": {
   "codemirror_mode": {
    "name": "ipython",
    "version": 3
   },
   "file_extension": ".py",
   "mimetype": "text/x-python",
   "name": "python",
   "nbconvert_exporter": "python",
   "pygments_lexer": "ipython3",
   "version": "3.8.10"
  },
  "orig_nbformat": 4,
  "vscode": {
   "interpreter": {
    "hash": "49a6cb26e152f15aca94d1d3fa9630fb57fb8fd83a336982cd2ebf9e9635e69c"
   }
  }
 },
 "nbformat": 4,
 "nbformat_minor": 2
}
